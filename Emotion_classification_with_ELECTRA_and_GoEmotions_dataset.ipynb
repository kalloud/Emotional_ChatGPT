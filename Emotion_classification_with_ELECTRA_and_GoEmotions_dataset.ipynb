{
 "cells": [
  {
   "cell_type": "markdown",
   "metadata": {
    "id": "-7-92VeD7RWb"
   },
   "source": [
    "# Data exploration"
   ]
  },
  {
   "cell_type": "markdown",
   "metadata": {
    "id": "eXFQz3Px2-yk"
   },
   "source": [
    "## Installing dependencies\n"
   ]
  },
  {
   "cell_type": "code",
   "execution_count": 2,
   "metadata": {
    "collapsed": false
   },
   "outputs": [
    {
     "ename": "OSError",
     "evalue": "/home/ahmed_b/.conda/envs/electra_cls/lib/python3.11/site-packages/nvidia/cublas/lib/libcublas.so.11: symbol cublasLtGetStatusString version libcublasLt.so.11 not defined in file libcublasLt.so.11 with link time reference",
     "output_type": "error",
     "traceback": [
      "\u001b[0;31m---------------------------------------------------------------------------\u001b[0m",
      "\u001b[0;31mOSError\u001b[0m                                   Traceback (most recent call last)",
      "File \u001b[0;32m~/.conda/envs/electra_cls/lib/python3.11/site-packages/torch/__init__.py:172\u001b[0m, in \u001b[0;36m_load_global_deps\u001b[0;34m()\u001b[0m\n\u001b[1;32m    171\u001b[0m \u001b[38;5;28;01mtry\u001b[39;00m:\n\u001b[0;32m--> 172\u001b[0m     \u001b[43mctypes\u001b[49m\u001b[38;5;241;43m.\u001b[39;49m\u001b[43mCDLL\u001b[49m\u001b[43m(\u001b[49m\u001b[43mlib_path\u001b[49m\u001b[43m,\u001b[49m\u001b[43m \u001b[49m\u001b[43mmode\u001b[49m\u001b[38;5;241;43m=\u001b[39;49m\u001b[43mctypes\u001b[49m\u001b[38;5;241;43m.\u001b[39;49m\u001b[43mRTLD_GLOBAL\u001b[49m\u001b[43m)\u001b[49m\n\u001b[1;32m    173\u001b[0m \u001b[38;5;28;01mexcept\u001b[39;00m \u001b[38;5;167;01mOSError\u001b[39;00m \u001b[38;5;28;01mas\u001b[39;00m err:\n\u001b[1;32m    174\u001b[0m     \u001b[38;5;66;03m# Can only happen of wheel with cublas as PYPI deps\u001b[39;00m\n\u001b[1;32m    175\u001b[0m     \u001b[38;5;66;03m# As PyTorch is not purelib, but nvidia-cublas-cu11 is\u001b[39;00m\n",
      "File \u001b[0;32m~/.conda/envs/electra_cls/lib/python3.11/ctypes/__init__.py:376\u001b[0m, in \u001b[0;36mCDLL.__init__\u001b[0;34m(self, name, mode, handle, use_errno, use_last_error, winmode)\u001b[0m\n\u001b[1;32m    375\u001b[0m \u001b[38;5;28;01mif\u001b[39;00m handle \u001b[38;5;129;01mis\u001b[39;00m \u001b[38;5;28;01mNone\u001b[39;00m:\n\u001b[0;32m--> 376\u001b[0m     \u001b[38;5;28mself\u001b[39m\u001b[38;5;241m.\u001b[39m_handle \u001b[38;5;241m=\u001b[39m \u001b[43m_dlopen\u001b[49m\u001b[43m(\u001b[49m\u001b[38;5;28;43mself\u001b[39;49m\u001b[38;5;241;43m.\u001b[39;49m\u001b[43m_name\u001b[49m\u001b[43m,\u001b[49m\u001b[43m \u001b[49m\u001b[43mmode\u001b[49m\u001b[43m)\u001b[49m\n\u001b[1;32m    377\u001b[0m \u001b[38;5;28;01melse\u001b[39;00m:\n",
      "\u001b[0;31mOSError\u001b[0m: /home/ahmed_b/.conda/envs/electra_cls/lib/python3.11/site-packages/torch/lib/../../nvidia/cublas/lib/libcublas.so.11: symbol cublasLtGetStatusString version libcublasLt.so.11 not defined in file libcublasLt.so.11 with link time reference",
      "\nDuring handling of the above exception, another exception occurred:\n",
      "\u001b[0;31mOSError\u001b[0m                                   Traceback (most recent call last)",
      "Cell \u001b[0;32mIn[2], line 1\u001b[0m\n\u001b[0;32m----> 1\u001b[0m \u001b[38;5;28;01mimport\u001b[39;00m \u001b[38;5;21;01mtorch\u001b[39;00m\n\u001b[1;32m      2\u001b[0m \u001b[38;5;66;03m# print(torch.__version__)\u001b[39;00m\n",
      "File \u001b[0;32m~/.conda/envs/electra_cls/lib/python3.11/site-packages/torch/__init__.py:217\u001b[0m\n\u001b[1;32m    206\u001b[0m \u001b[38;5;28;01melse\u001b[39;00m:\n\u001b[1;32m    207\u001b[0m     \u001b[38;5;66;03m# Easy way.  You want this most of the time, because it will prevent\u001b[39;00m\n\u001b[1;32m    208\u001b[0m     \u001b[38;5;66;03m# C++ symbols from libtorch clobbering C++ symbols from other\u001b[39;00m\n\u001b[0;32m   (...)\u001b[0m\n\u001b[1;32m    214\u001b[0m     \u001b[38;5;66;03m#\u001b[39;00m\n\u001b[1;32m    215\u001b[0m     \u001b[38;5;66;03m# See Note [Global dependencies]\u001b[39;00m\n\u001b[1;32m    216\u001b[0m     \u001b[38;5;28;01mif\u001b[39;00m USE_GLOBAL_DEPS:\n\u001b[0;32m--> 217\u001b[0m         \u001b[43m_load_global_deps\u001b[49m\u001b[43m(\u001b[49m\u001b[43m)\u001b[49m\n\u001b[1;32m    218\u001b[0m     \u001b[38;5;28;01mfrom\u001b[39;00m \u001b[38;5;21;01mtorch\u001b[39;00m\u001b[38;5;21;01m.\u001b[39;00m\u001b[38;5;21;01m_C\u001b[39;00m \u001b[38;5;28;01mimport\u001b[39;00m \u001b[38;5;241m*\u001b[39m  \u001b[38;5;66;03m# noqa: F403\u001b[39;00m\n\u001b[1;32m    220\u001b[0m \u001b[38;5;66;03m# Appease the type checker; ordinarily this binding is inserted by the\u001b[39;00m\n\u001b[1;32m    221\u001b[0m \u001b[38;5;66;03m# torch._C module initialization code in C\u001b[39;00m\n",
      "File \u001b[0;32m~/.conda/envs/electra_cls/lib/python3.11/site-packages/torch/__init__.py:178\u001b[0m, in \u001b[0;36m_load_global_deps\u001b[0;34m()\u001b[0m\n\u001b[1;32m    176\u001b[0m \u001b[38;5;28;01mif\u001b[39;00m \u001b[38;5;124m'\u001b[39m\u001b[38;5;124mlibcublas.so.11\u001b[39m\u001b[38;5;124m'\u001b[39m \u001b[38;5;129;01mnot\u001b[39;00m \u001b[38;5;129;01min\u001b[39;00m err\u001b[38;5;241m.\u001b[39margs[\u001b[38;5;241m0\u001b[39m]:\n\u001b[1;32m    177\u001b[0m     \u001b[38;5;28;01mraise\u001b[39;00m err\n\u001b[0;32m--> 178\u001b[0m \u001b[43m_preload_cuda_deps\u001b[49m\u001b[43m(\u001b[49m\u001b[43m)\u001b[49m\n\u001b[1;32m    179\u001b[0m ctypes\u001b[38;5;241m.\u001b[39mCDLL(lib_path, mode\u001b[38;5;241m=\u001b[39mctypes\u001b[38;5;241m.\u001b[39mRTLD_GLOBAL)\n",
      "File \u001b[0;32m~/.conda/envs/electra_cls/lib/python3.11/site-packages/torch/__init__.py:158\u001b[0m, in \u001b[0;36m_preload_cuda_deps\u001b[0;34m()\u001b[0m\n\u001b[1;32m    155\u001b[0m         \u001b[38;5;28;01mcontinue\u001b[39;00m\n\u001b[1;32m    156\u001b[0m     \u001b[38;5;28;01mbreak\u001b[39;00m\n\u001b[0;32m--> 158\u001b[0m \u001b[43mctypes\u001b[49m\u001b[38;5;241;43m.\u001b[39;49m\u001b[43mCDLL\u001b[49m\u001b[43m(\u001b[49m\u001b[43mcublas_path\u001b[49m\u001b[43m)\u001b[49m\n\u001b[1;32m    159\u001b[0m ctypes\u001b[38;5;241m.\u001b[39mCDLL(cudnn_path)\n",
      "File \u001b[0;32m~/.conda/envs/electra_cls/lib/python3.11/ctypes/__init__.py:376\u001b[0m, in \u001b[0;36mCDLL.__init__\u001b[0;34m(self, name, mode, handle, use_errno, use_last_error, winmode)\u001b[0m\n\u001b[1;32m    373\u001b[0m \u001b[38;5;28mself\u001b[39m\u001b[38;5;241m.\u001b[39m_FuncPtr \u001b[38;5;241m=\u001b[39m _FuncPtr\n\u001b[1;32m    375\u001b[0m \u001b[38;5;28;01mif\u001b[39;00m handle \u001b[38;5;129;01mis\u001b[39;00m \u001b[38;5;28;01mNone\u001b[39;00m:\n\u001b[0;32m--> 376\u001b[0m     \u001b[38;5;28mself\u001b[39m\u001b[38;5;241m.\u001b[39m_handle \u001b[38;5;241m=\u001b[39m \u001b[43m_dlopen\u001b[49m\u001b[43m(\u001b[49m\u001b[38;5;28;43mself\u001b[39;49m\u001b[38;5;241;43m.\u001b[39;49m\u001b[43m_name\u001b[49m\u001b[43m,\u001b[49m\u001b[43m \u001b[49m\u001b[43mmode\u001b[49m\u001b[43m)\u001b[49m\n\u001b[1;32m    377\u001b[0m \u001b[38;5;28;01melse\u001b[39;00m:\n\u001b[1;32m    378\u001b[0m     \u001b[38;5;28mself\u001b[39m\u001b[38;5;241m.\u001b[39m_handle \u001b[38;5;241m=\u001b[39m handle\n",
      "\u001b[0;31mOSError\u001b[0m: /home/ahmed_b/.conda/envs/electra_cls/lib/python3.11/site-packages/nvidia/cublas/lib/libcublas.so.11: symbol cublasLtGetStatusString version libcublasLt.so.11 not defined in file libcublasLt.so.11 with link time reference"
     ]
    }
   ],
   "source": [
    "import torch\n",
    "# print(torch.__version__)"
   ]
  },
  {
   "cell_type": "code",
   "execution_count": 12,
   "metadata": {
    "colab": {
     "base_uri": "https://localhost:8080/"
    },
    "id": "VnM-vi9koTPE",
    "outputId": "1f0b2af1-10ce-497d-944c-ed7f804a42e6",
    "tags": []
   },
   "outputs": [
    {
     "name": "stdout",
     "output_type": "stream",
     "text": [
      "\u001b[31mERROR: Could not find a version that satisfies the requirement torchvision==0.12.0 (from versions: 0.1.6, 0.1.7, 0.1.8, 0.1.9, 0.2.0, 0.2.1, 0.2.2, 0.2.2.post2, 0.2.2.post3)\u001b[0m\u001b[31m\r\n",
      "\u001b[0m\u001b[31mERROR: No matching distribution found for torchvision==0.12.0\u001b[0m\u001b[31m\r\n",
      "\u001b[0m\u001b[31mERROR: Could not find a version that satisfies the requirement torchaudio==0.11.0 (from versions: none)\u001b[0m\u001b[31m\r\n",
      "\u001b[0m\u001b[31mERROR: No matching distribution found for torchaudio==0.11.0\u001b[0m\u001b[31m\r\n",
      "\u001b[0m\u001b[31mERROR: Could not find a version that satisfies the requirement torchtext==0.12.0 (from versions: 0.1.1, 0.2.0, 0.2.1, 0.2.3, 0.3.1, 0.4.0, 0.5.0, 0.6.0)\u001b[0m\u001b[31m\r\n",
      "\u001b[0m\u001b[31mERROR: No matching distribution found for torchtext==0.12.0\u001b[0m\u001b[31m\r\n",
      "\u001b[0m\u001b[31mERROR: Could not find a version that satisfies the requirement torch==1.11.0 (from versions: 1.13.0, 1.13.1)\u001b[0m\u001b[31m\r\n",
      "\u001b[0m\u001b[31mERROR: No matching distribution found for torch==1.11.0\u001b[0m\u001b[31m\r\n",
      "\u001b[0m"
     ]
    }
   ],
   "source": [
    "# Attempting to install the old version of Pytorch\n",
    "!pip install torchvision==0.12.0\n",
    "!pip install torchaudio==0.11.0\n",
    "!pip install torchtext==0.12.0\n",
    "!pip install torch==1.11.0"
   ]
  },
  {
   "cell_type": "code",
   "execution_count": 13,
   "metadata": {
    "colab": {
     "base_uri": "https://localhost:8080/"
    },
    "id": "tMv5ZdEq2hDF",
    "outputId": "c3795040-8583-4ada-9096-d176366d0038",
    "scrolled": true,
    "tags": []
   },
   "outputs": [
    {
     "name": "stdout",
     "output_type": "stream",
     "text": [
      "Requirement already satisfied: pytorch-lightning==1.5.10 in /home/ahmed_b/.conda/envs/electra_cls/lib/python3.11/site-packages (1.5.10)\r\n",
      "Requirement already satisfied: numpy>=1.17.2 in /home/ahmed_b/.conda/envs/electra_cls/lib/python3.11/site-packages (from pytorch-lightning==1.5.10) (1.24.2)\r\n",
      "Requirement already satisfied: torch>=1.7.* in /home/ahmed_b/.conda/envs/electra_cls/lib/python3.11/site-packages (from pytorch-lightning==1.5.10) (1.13.1)\r\n",
      "Requirement already satisfied: future>=0.17.1 in /home/ahmed_b/.conda/envs/electra_cls/lib/python3.11/site-packages (from pytorch-lightning==1.5.10) (0.18.3)\r\n",
      "Requirement already satisfied: tqdm>=4.41.0 in /home/ahmed_b/.conda/envs/electra_cls/lib/python3.11/site-packages (from pytorch-lightning==1.5.10) (4.64.1)\r\n",
      "Requirement already satisfied: PyYAML>=5.1 in /home/ahmed_b/.conda/envs/electra_cls/lib/python3.11/site-packages (from pytorch-lightning==1.5.10) (6.0)\r\n",
      "Requirement already satisfied: fsspec[http]!=2021.06.0,>=2021.05.0 in /home/ahmed_b/.conda/envs/electra_cls/lib/python3.11/site-packages (from pytorch-lightning==1.5.10) (2023.1.0)\r\n",
      "Requirement already satisfied: tensorboard>=2.2.0 in /home/ahmed_b/.conda/envs/electra_cls/lib/python3.11/site-packages (from pytorch-lightning==1.5.10) (2.11.2)\r\n",
      "Requirement already satisfied: torchmetrics>=0.4.1 in /home/ahmed_b/.conda/envs/electra_cls/lib/python3.11/site-packages (from pytorch-lightning==1.5.10) (0.11.1)\r\n",
      "Requirement already satisfied: pyDeprecate==0.3.1 in /home/ahmed_b/.conda/envs/electra_cls/lib/python3.11/site-packages (from pytorch-lightning==1.5.10) (0.3.1)\r\n",
      "Requirement already satisfied: packaging>=17.0 in /home/ahmed_b/.conda/envs/electra_cls/lib/python3.11/site-packages (from pytorch-lightning==1.5.10) (23.0)\r\n",
      "Requirement already satisfied: typing-extensions in /home/ahmed_b/.conda/envs/electra_cls/lib/python3.11/site-packages (from pytorch-lightning==1.5.10) (4.4.0)\r\n",
      "Requirement already satisfied: setuptools==59.5.0 in /home/ahmed_b/.conda/envs/electra_cls/lib/python3.11/site-packages (from pytorch-lightning==1.5.10) (59.5.0)\r\n",
      "Requirement already satisfied: requests in /home/ahmed_b/.conda/envs/electra_cls/lib/python3.11/site-packages (from fsspec[http]!=2021.06.0,>=2021.05.0->pytorch-lightning==1.5.10) (2.28.2)\r\n",
      "Requirement already satisfied: aiohttp!=4.0.0a0,!=4.0.0a1 in /home/ahmed_b/.conda/envs/electra_cls/lib/python3.11/site-packages (from fsspec[http]!=2021.06.0,>=2021.05.0->pytorch-lightning==1.5.10) (3.8.3)\r\n",
      "Requirement already satisfied: absl-py>=0.4 in /home/ahmed_b/.conda/envs/electra_cls/lib/python3.11/site-packages (from tensorboard>=2.2.0->pytorch-lightning==1.5.10) (1.4.0)\r\n",
      "Requirement already satisfied: grpcio>=1.24.3 in /home/ahmed_b/.conda/envs/electra_cls/lib/python3.11/site-packages (from tensorboard>=2.2.0->pytorch-lightning==1.5.10) (1.51.1)\r\n",
      "Requirement already satisfied: google-auth<3,>=1.6.3 in /home/ahmed_b/.conda/envs/electra_cls/lib/python3.11/site-packages (from tensorboard>=2.2.0->pytorch-lightning==1.5.10) (2.16.0)\r\n",
      "Requirement already satisfied: google-auth-oauthlib<0.5,>=0.4.1 in /home/ahmed_b/.conda/envs/electra_cls/lib/python3.11/site-packages (from tensorboard>=2.2.0->pytorch-lightning==1.5.10) (0.4.6)\r\n",
      "Requirement already satisfied: markdown>=2.6.8 in /home/ahmed_b/.conda/envs/electra_cls/lib/python3.11/site-packages (from tensorboard>=2.2.0->pytorch-lightning==1.5.10) (3.3.4)\r\n",
      "Requirement already satisfied: protobuf<4,>=3.9.2 in /home/ahmed_b/.conda/envs/electra_cls/lib/python3.11/site-packages (from tensorboard>=2.2.0->pytorch-lightning==1.5.10) (3.20.3)\r\n",
      "Requirement already satisfied: tensorboard-data-server<0.7.0,>=0.6.0 in /home/ahmed_b/.conda/envs/electra_cls/lib/python3.11/site-packages (from tensorboard>=2.2.0->pytorch-lightning==1.5.10) (0.6.1)\r\n",
      "Requirement already satisfied: tensorboard-plugin-wit>=1.6.0 in /home/ahmed_b/.conda/envs/electra_cls/lib/python3.11/site-packages (from tensorboard>=2.2.0->pytorch-lightning==1.5.10) (1.8.1)\r\n",
      "Requirement already satisfied: werkzeug>=1.0.1 in /home/ahmed_b/.conda/envs/electra_cls/lib/python3.11/site-packages (from tensorboard>=2.2.0->pytorch-lightning==1.5.10) (2.2.2)\r\n",
      "Requirement already satisfied: wheel>=0.26 in /home/ahmed_b/.conda/envs/electra_cls/lib/python3.11/site-packages (from tensorboard>=2.2.0->pytorch-lightning==1.5.10) (0.38.4)\r\n",
      "Requirement already satisfied: nvidia-cuda-runtime-cu11==11.7.99 in /home/ahmed_b/.conda/envs/electra_cls/lib/python3.11/site-packages (from torch>=1.7.*->pytorch-lightning==1.5.10) (11.7.99)\r\n",
      "Requirement already satisfied: nvidia-cudnn-cu11==8.5.0.96 in /home/ahmed_b/.conda/envs/electra_cls/lib/python3.11/site-packages (from torch>=1.7.*->pytorch-lightning==1.5.10) (8.5.0.96)\r\n",
      "Requirement already satisfied: nvidia-cublas-cu11==11.10.3.66 in /home/ahmed_b/.conda/envs/electra_cls/lib/python3.11/site-packages (from torch>=1.7.*->pytorch-lightning==1.5.10) (11.10.3.66)\r\n",
      "Requirement already satisfied: nvidia-cuda-nvrtc-cu11==11.7.99 in /home/ahmed_b/.conda/envs/electra_cls/lib/python3.11/site-packages (from torch>=1.7.*->pytorch-lightning==1.5.10) (11.7.99)\r\n",
      "Requirement already satisfied: attrs>=17.3.0 in /home/ahmed_b/.conda/envs/electra_cls/lib/python3.11/site-packages (from aiohttp!=4.0.0a0,!=4.0.0a1->fsspec[http]!=2021.06.0,>=2021.05.0->pytorch-lightning==1.5.10) (22.2.0)\r\n",
      "Requirement already satisfied: charset-normalizer<3.0,>=2.0 in /home/ahmed_b/.conda/envs/electra_cls/lib/python3.11/site-packages (from aiohttp!=4.0.0a0,!=4.0.0a1->fsspec[http]!=2021.06.0,>=2021.05.0->pytorch-lightning==1.5.10) (2.1.1)\r\n",
      "Requirement already satisfied: multidict<7.0,>=4.5 in /home/ahmed_b/.conda/envs/electra_cls/lib/python3.11/site-packages (from aiohttp!=4.0.0a0,!=4.0.0a1->fsspec[http]!=2021.06.0,>=2021.05.0->pytorch-lightning==1.5.10) (6.0.4)\r\n",
      "Requirement already satisfied: async-timeout<5.0,>=4.0.0a3 in /home/ahmed_b/.conda/envs/electra_cls/lib/python3.11/site-packages (from aiohttp!=4.0.0a0,!=4.0.0a1->fsspec[http]!=2021.06.0,>=2021.05.0->pytorch-lightning==1.5.10) (4.0.2)\r\n",
      "Requirement already satisfied: yarl<2.0,>=1.0 in /home/ahmed_b/.conda/envs/electra_cls/lib/python3.11/site-packages (from aiohttp!=4.0.0a0,!=4.0.0a1->fsspec[http]!=2021.06.0,>=2021.05.0->pytorch-lightning==1.5.10) (1.8.2)\r\n",
      "Requirement already satisfied: frozenlist>=1.1.1 in /home/ahmed_b/.conda/envs/electra_cls/lib/python3.11/site-packages (from aiohttp!=4.0.0a0,!=4.0.0a1->fsspec[http]!=2021.06.0,>=2021.05.0->pytorch-lightning==1.5.10) (1.3.3)\r\n",
      "Requirement already satisfied: aiosignal>=1.1.2 in /home/ahmed_b/.conda/envs/electra_cls/lib/python3.11/site-packages (from aiohttp!=4.0.0a0,!=4.0.0a1->fsspec[http]!=2021.06.0,>=2021.05.0->pytorch-lightning==1.5.10) (1.3.1)\r\n",
      "Requirement already satisfied: cachetools<6.0,>=2.0.0 in /home/ahmed_b/.conda/envs/electra_cls/lib/python3.11/site-packages (from google-auth<3,>=1.6.3->tensorboard>=2.2.0->pytorch-lightning==1.5.10) (5.3.0)\r\n",
      "Requirement already satisfied: pyasn1-modules>=0.2.1 in /home/ahmed_b/.conda/envs/electra_cls/lib/python3.11/site-packages (from google-auth<3,>=1.6.3->tensorboard>=2.2.0->pytorch-lightning==1.5.10) (0.2.8)\r\n",
      "Requirement already satisfied: six>=1.9.0 in /home/ahmed_b/.conda/envs/electra_cls/lib/python3.11/site-packages (from google-auth<3,>=1.6.3->tensorboard>=2.2.0->pytorch-lightning==1.5.10) (1.16.0)\r\n",
      "Requirement already satisfied: rsa<5,>=3.1.4 in /home/ahmed_b/.conda/envs/electra_cls/lib/python3.11/site-packages (from google-auth<3,>=1.6.3->tensorboard>=2.2.0->pytorch-lightning==1.5.10) (4.9)\r\n",
      "Requirement already satisfied: requests-oauthlib>=0.7.0 in /home/ahmed_b/.conda/envs/electra_cls/lib/python3.11/site-packages (from google-auth-oauthlib<0.5,>=0.4.1->tensorboard>=2.2.0->pytorch-lightning==1.5.10) (1.3.1)\r\n",
      "Requirement already satisfied: idna<4,>=2.5 in /home/ahmed_b/.conda/envs/electra_cls/lib/python3.11/site-packages (from requests->fsspec[http]!=2021.06.0,>=2021.05.0->pytorch-lightning==1.5.10) (3.4)\r\n",
      "Requirement already satisfied: urllib3<1.27,>=1.21.1 in /home/ahmed_b/.conda/envs/electra_cls/lib/python3.11/site-packages (from requests->fsspec[http]!=2021.06.0,>=2021.05.0->pytorch-lightning==1.5.10) (1.26.14)\r\n",
      "Requirement already satisfied: certifi>=2017.4.17 in /home/ahmed_b/.conda/envs/electra_cls/lib/python3.11/site-packages (from requests->fsspec[http]!=2021.06.0,>=2021.05.0->pytorch-lightning==1.5.10) (2022.12.7)\r\n",
      "Requirement already satisfied: MarkupSafe>=2.1.1 in /home/ahmed_b/.conda/envs/electra_cls/lib/python3.11/site-packages (from werkzeug>=1.0.1->tensorboard>=2.2.0->pytorch-lightning==1.5.10) (2.1.2)\r\n",
      "Requirement already satisfied: pyasn1<0.5.0,>=0.4.6 in /home/ahmed_b/.conda/envs/electra_cls/lib/python3.11/site-packages (from pyasn1-modules>=0.2.1->google-auth<3,>=1.6.3->tensorboard>=2.2.0->pytorch-lightning==1.5.10) (0.4.8)\r\n",
      "Requirement already satisfied: oauthlib>=3.0.0 in /home/ahmed_b/.conda/envs/electra_cls/lib/python3.11/site-packages (from requests-oauthlib>=0.7.0->google-auth-oauthlib<0.5,>=0.4.1->tensorboard>=2.2.0->pytorch-lightning==1.5.10) (3.2.2)\r\n",
      "Requirement already satisfied: transformers==4.17.0 in /home/ahmed_b/.conda/envs/electra_cls/lib/python3.11/site-packages (4.17.0)\r\n",
      "Requirement already satisfied: filelock in /home/ahmed_b/.conda/envs/electra_cls/lib/python3.11/site-packages (from transformers==4.17.0) (3.9.0)\r\n",
      "Requirement already satisfied: huggingface-hub<1.0,>=0.1.0 in /home/ahmed_b/.conda/envs/electra_cls/lib/python3.11/site-packages (from transformers==4.17.0) (0.12.0)\r\n",
      "Requirement already satisfied: numpy>=1.17 in /home/ahmed_b/.conda/envs/electra_cls/lib/python3.11/site-packages (from transformers==4.17.0) (1.24.2)\r\n",
      "Requirement already satisfied: packaging>=20.0 in /home/ahmed_b/.conda/envs/electra_cls/lib/python3.11/site-packages (from transformers==4.17.0) (23.0)\r\n",
      "Requirement already satisfied: pyyaml>=5.1 in /home/ahmed_b/.conda/envs/electra_cls/lib/python3.11/site-packages (from transformers==4.17.0) (6.0)\r\n",
      "Requirement already satisfied: regex!=2019.12.17 in /home/ahmed_b/.conda/envs/electra_cls/lib/python3.11/site-packages (from transformers==4.17.0) (2022.10.31)\r\n",
      "Requirement already satisfied: requests in /home/ahmed_b/.conda/envs/electra_cls/lib/python3.11/site-packages (from transformers==4.17.0) (2.28.2)\r\n",
      "Requirement already satisfied: sacremoses in /home/ahmed_b/.conda/envs/electra_cls/lib/python3.11/site-packages (from transformers==4.17.0) (0.0.53)\r\n",
      "Requirement already satisfied: tokenizers!=0.11.3,>=0.11.1 in /home/ahmed_b/.conda/envs/electra_cls/lib/python3.11/site-packages (from transformers==4.17.0) (0.13.2)\r\n",
      "Requirement already satisfied: tqdm>=4.27 in /home/ahmed_b/.conda/envs/electra_cls/lib/python3.11/site-packages (from transformers==4.17.0) (4.64.1)\r\n",
      "Requirement already satisfied: typing-extensions>=3.7.4.3 in /home/ahmed_b/.conda/envs/electra_cls/lib/python3.11/site-packages (from huggingface-hub<1.0,>=0.1.0->transformers==4.17.0) (4.4.0)\r\n",
      "Requirement already satisfied: charset-normalizer<4,>=2 in /home/ahmed_b/.conda/envs/electra_cls/lib/python3.11/site-packages (from requests->transformers==4.17.0) (2.1.1)\r\n",
      "Requirement already satisfied: idna<4,>=2.5 in /home/ahmed_b/.conda/envs/electra_cls/lib/python3.11/site-packages (from requests->transformers==4.17.0) (3.4)\r\n",
      "Requirement already satisfied: urllib3<1.27,>=1.21.1 in /home/ahmed_b/.conda/envs/electra_cls/lib/python3.11/site-packages (from requests->transformers==4.17.0) (1.26.14)\r\n",
      "Requirement already satisfied: certifi>=2017.4.17 in /home/ahmed_b/.conda/envs/electra_cls/lib/python3.11/site-packages (from requests->transformers==4.17.0) (2022.12.7)\r\n",
      "Requirement already satisfied: six in /home/ahmed_b/.conda/envs/electra_cls/lib/python3.11/site-packages (from sacremoses->transformers==4.17.0) (1.16.0)\r\n",
      "Requirement already satisfied: click in /home/ahmed_b/.conda/envs/electra_cls/lib/python3.11/site-packages (from sacremoses->transformers==4.17.0) (8.1.3)\r\n",
      "Requirement already satisfied: joblib in /home/ahmed_b/.conda/envs/electra_cls/lib/python3.11/site-packages (from sacremoses->transformers==4.17.0) (1.2.0)\r\n",
      "Requirement already satisfied: watermark in /home/ahmed_b/.conda/envs/electra_cls/lib/python3.11/site-packages (2.3.1)\r\n",
      "Requirement already satisfied: ipython in /home/ahmed_b/.conda/envs/electra_cls/lib/python3.11/site-packages (from watermark) (8.9.0)\r\n",
      "Requirement already satisfied: backcall in /home/ahmed_b/.conda/envs/electra_cls/lib/python3.11/site-packages (from ipython->watermark) (0.2.0)\r\n",
      "Requirement already satisfied: decorator in /home/ahmed_b/.conda/envs/electra_cls/lib/python3.11/site-packages (from ipython->watermark) (5.1.1)\r\n",
      "Requirement already satisfied: jedi>=0.16 in /home/ahmed_b/.conda/envs/electra_cls/lib/python3.11/site-packages (from ipython->watermark) (0.18.2)\r\n",
      "Requirement already satisfied: matplotlib-inline in /home/ahmed_b/.conda/envs/electra_cls/lib/python3.11/site-packages (from ipython->watermark) (0.1.6)\r\n",
      "Requirement already satisfied: pickleshare in /home/ahmed_b/.conda/envs/electra_cls/lib/python3.11/site-packages (from ipython->watermark) (0.7.5)\r\n",
      "Requirement already satisfied: prompt-toolkit<3.1.0,>=3.0.30 in /home/ahmed_b/.conda/envs/electra_cls/lib/python3.11/site-packages (from ipython->watermark) (3.0.36)\r\n",
      "Requirement already satisfied: pygments>=2.4.0 in /home/ahmed_b/.conda/envs/electra_cls/lib/python3.11/site-packages (from ipython->watermark) (2.14.0)\r\n",
      "Requirement already satisfied: stack-data in /home/ahmed_b/.conda/envs/electra_cls/lib/python3.11/site-packages (from ipython->watermark) (0.6.2)\r\n",
      "Requirement already satisfied: traitlets>=5 in /home/ahmed_b/.conda/envs/electra_cls/lib/python3.11/site-packages (from ipython->watermark) (5.9.0)\r\n",
      "Requirement already satisfied: pexpect>4.3 in /home/ahmed_b/.conda/envs/electra_cls/lib/python3.11/site-packages (from ipython->watermark) (4.8.0)\r\n",
      "Requirement already satisfied: parso<0.9.0,>=0.8.0 in /home/ahmed_b/.conda/envs/electra_cls/lib/python3.11/site-packages (from jedi>=0.16->ipython->watermark) (0.8.3)\r\n",
      "Requirement already satisfied: ptyprocess>=0.5 in /home/ahmed_b/.conda/envs/electra_cls/lib/python3.11/site-packages (from pexpect>4.3->ipython->watermark) (0.7.0)\r\n",
      "Requirement already satisfied: wcwidth in /home/ahmed_b/.conda/envs/electra_cls/lib/python3.11/site-packages (from prompt-toolkit<3.1.0,>=3.0.30->ipython->watermark) (0.2.6)\r\n",
      "Requirement already satisfied: executing>=1.2.0 in /home/ahmed_b/.conda/envs/electra_cls/lib/python3.11/site-packages (from stack-data->ipython->watermark) (1.2.0)\r\n",
      "Requirement already satisfied: asttokens>=2.1.0 in /home/ahmed_b/.conda/envs/electra_cls/lib/python3.11/site-packages (from stack-data->ipython->watermark) (2.2.1)\r\n",
      "Requirement already satisfied: pure-eval in /home/ahmed_b/.conda/envs/electra_cls/lib/python3.11/site-packages (from stack-data->ipython->watermark) (0.2.2)\r\n",
      "Requirement already satisfied: six in /home/ahmed_b/.conda/envs/electra_cls/lib/python3.11/site-packages (from asttokens>=2.1.0->stack-data->ipython->watermark) (1.16.0)\r\n"
     ]
    }
   ],
   "source": [
    "!pip install pytorch-lightning==1.5.10\n",
    "!pip install transformers==4.17.0\n",
    "!pip install watermark"
   ]
  },
  {
   "cell_type": "code",
   "execution_count": 14,
   "metadata": {
    "collapsed": false
   },
   "outputs": [
    {
     "name": "stdout",
     "output_type": "stream",
     "text": [
      "hello there!\n"
     ]
    }
   ],
   "source": [
    "print(\"hello there!\")"
   ]
  },
  {
   "cell_type": "code",
   "execution_count": 15,
   "metadata": {
    "colab": {
     "base_uri": "https://localhost:8080/"
    },
    "id": "mHERlTE3HqTN",
    "outputId": "2d2eac33-0bf8-4a05-dc48-a5a2a35776cc",
    "tags": []
   },
   "outputs": [
    {
     "name": "stdout",
     "output_type": "stream",
     "text": [
      "Requirement already satisfied: Markdown==3.3.4 in /home/ahmed_b/.conda/envs/electra_cls/lib/python3.11/site-packages (3.3.4)\r\n"
     ]
    }
   ],
   "source": [
    "!pip install Markdown==3.3.4"
   ]
  },
  {
   "cell_type": "code",
   "execution_count": 16,
   "metadata": {
    "colab": {
     "base_uri": "https://localhost:8080/"
    },
    "id": "3yD63QutL4b1",
    "outputId": "a186951f-5307-45ea-c9f2-c268b3149f07",
    "tags": []
   },
   "outputs": [
    {
     "name": "stdout",
     "output_type": "stream",
     "text": [
      "E: Impossible d'ouvrir le fichier verrou /var/lib/dpkg/lock-frontend - open (13: Permission denied)\r\n",
      "E: Impossible d'obtenir le verrou de dpkg (/var/lib/dpkg/lock-frontend). Avez-vous les droits du superutilisateur ?\r\n"
     ]
    }
   ],
   "source": [
    "!apt-get install tree"
   ]
  },
  {
   "cell_type": "code",
   "execution_count": 17,
   "metadata": {
    "colab": {
     "base_uri": "https://localhost:8080/"
    },
    "id": "AmXN5H2zCQdf",
    "outputId": "46068776-68e2-4ca3-80bb-ff982fa6db47",
    "tags": []
   },
   "outputs": [
    {
     "ename": "OSError",
     "evalue": "/home/ahmed_b/.conda/envs/electra_cls/lib/python3.11/site-packages/nvidia/cublas/lib/libcublas.so.11: symbol cublasLtGetStatusString version libcublasLt.so.11 not defined in file libcublasLt.so.11 with link time reference",
     "output_type": "error",
     "traceback": [
      "\u001b[0;31m---------------------------------------------------------------------------\u001b[0m",
      "\u001b[0;31mOSError\u001b[0m                                   Traceback (most recent call last)",
      "File \u001b[0;32m~/.conda/envs/electra_cls/lib/python3.11/site-packages/torch/__init__.py:172\u001b[0m, in \u001b[0;36m_load_global_deps\u001b[0;34m()\u001b[0m\n\u001b[1;32m    171\u001b[0m \u001b[38;5;28;01mtry\u001b[39;00m:\n\u001b[0;32m--> 172\u001b[0m     \u001b[43mctypes\u001b[49m\u001b[38;5;241;43m.\u001b[39;49m\u001b[43mCDLL\u001b[49m\u001b[43m(\u001b[49m\u001b[43mlib_path\u001b[49m\u001b[43m,\u001b[49m\u001b[43m \u001b[49m\u001b[43mmode\u001b[49m\u001b[38;5;241;43m=\u001b[39;49m\u001b[43mctypes\u001b[49m\u001b[38;5;241;43m.\u001b[39;49m\u001b[43mRTLD_GLOBAL\u001b[49m\u001b[43m)\u001b[49m\n\u001b[1;32m    173\u001b[0m \u001b[38;5;28;01mexcept\u001b[39;00m \u001b[38;5;167;01mOSError\u001b[39;00m \u001b[38;5;28;01mas\u001b[39;00m err:\n\u001b[1;32m    174\u001b[0m     \u001b[38;5;66;03m# Can only happen of wheel with cublas as PYPI deps\u001b[39;00m\n\u001b[1;32m    175\u001b[0m     \u001b[38;5;66;03m# As PyTorch is not purelib, but nvidia-cublas-cu11 is\u001b[39;00m\n",
      "File \u001b[0;32m~/.conda/envs/electra_cls/lib/python3.11/ctypes/__init__.py:376\u001b[0m, in \u001b[0;36mCDLL.__init__\u001b[0;34m(self, name, mode, handle, use_errno, use_last_error, winmode)\u001b[0m\n\u001b[1;32m    375\u001b[0m \u001b[38;5;28;01mif\u001b[39;00m handle \u001b[38;5;129;01mis\u001b[39;00m \u001b[38;5;28;01mNone\u001b[39;00m:\n\u001b[0;32m--> 376\u001b[0m     \u001b[38;5;28mself\u001b[39m\u001b[38;5;241m.\u001b[39m_handle \u001b[38;5;241m=\u001b[39m \u001b[43m_dlopen\u001b[49m\u001b[43m(\u001b[49m\u001b[38;5;28;43mself\u001b[39;49m\u001b[38;5;241;43m.\u001b[39;49m\u001b[43m_name\u001b[49m\u001b[43m,\u001b[49m\u001b[43m \u001b[49m\u001b[43mmode\u001b[49m\u001b[43m)\u001b[49m\n\u001b[1;32m    377\u001b[0m \u001b[38;5;28;01melse\u001b[39;00m:\n",
      "\u001b[0;31mOSError\u001b[0m: /home/ahmed_b/.conda/envs/electra_cls/lib/python3.11/site-packages/torch/lib/../../nvidia/cublas/lib/libcublas.so.11: symbol cublasLtGetStatusString version libcublasLt.so.11 not defined in file libcublasLt.so.11 with link time reference",
      "\nDuring handling of the above exception, another exception occurred:\n",
      "\u001b[0;31mOSError\u001b[0m                                   Traceback (most recent call last)",
      "Cell \u001b[0;32mIn[17], line 2\u001b[0m\n\u001b[1;32m      1\u001b[0m get_ipython()\u001b[38;5;241m.\u001b[39mrun_line_magic(\u001b[38;5;124m'\u001b[39m\u001b[38;5;124mreload_ext\u001b[39m\u001b[38;5;124m'\u001b[39m, \u001b[38;5;124m'\u001b[39m\u001b[38;5;124mwatermark\u001b[39m\u001b[38;5;124m'\u001b[39m)\n\u001b[0;32m----> 2\u001b[0m \u001b[43mget_ipython\u001b[49m\u001b[43m(\u001b[49m\u001b[43m)\u001b[49m\u001b[38;5;241;43m.\u001b[39;49m\u001b[43mrun_line_magic\u001b[49m\u001b[43m(\u001b[49m\u001b[38;5;124;43m'\u001b[39;49m\u001b[38;5;124;43mwatermark\u001b[39;49m\u001b[38;5;124;43m'\u001b[39;49m\u001b[43m,\u001b[49m\u001b[43m \u001b[49m\u001b[38;5;124;43m'\u001b[39;49m\u001b[38;5;124;43m-v -p numpy,pandas,sklearn,torch,pytorch_lightning,transformers\u001b[39;49m\u001b[38;5;124;43m'\u001b[39;49m\u001b[43m)\u001b[49m\n",
      "File \u001b[0;32m~/.conda/envs/electra_cls/lib/python3.11/site-packages/IPython/core/interactiveshell.py:2369\u001b[0m, in \u001b[0;36mInteractiveShell.run_line_magic\u001b[0;34m(self, magic_name, line, _stack_depth)\u001b[0m\n\u001b[1;32m   2367\u001b[0m     kwargs[\u001b[38;5;124m'\u001b[39m\u001b[38;5;124mlocal_ns\u001b[39m\u001b[38;5;124m'\u001b[39m] \u001b[38;5;241m=\u001b[39m \u001b[38;5;28mself\u001b[39m\u001b[38;5;241m.\u001b[39mget_local_scope(stack_depth)\n\u001b[1;32m   2368\u001b[0m \u001b[38;5;28;01mwith\u001b[39;00m \u001b[38;5;28mself\u001b[39m\u001b[38;5;241m.\u001b[39mbuiltin_trap:\n\u001b[0;32m-> 2369\u001b[0m     result \u001b[38;5;241m=\u001b[39m \u001b[43mfn\u001b[49m\u001b[43m(\u001b[49m\u001b[38;5;241;43m*\u001b[39;49m\u001b[43margs\u001b[49m\u001b[43m,\u001b[49m\u001b[43m \u001b[49m\u001b[38;5;241;43m*\u001b[39;49m\u001b[38;5;241;43m*\u001b[39;49m\u001b[43mkwargs\u001b[49m\u001b[43m)\u001b[49m\n\u001b[1;32m   2370\u001b[0m \u001b[38;5;28;01mreturn\u001b[39;00m result\n",
      "File \u001b[0;32m~/.conda/envs/electra_cls/lib/python3.11/site-packages/watermark/magic.py:87\u001b[0m, in \u001b[0;36mWaterMark.watermark\u001b[0;34m(self, line)\u001b[0m\n\u001b[1;32m     84\u001b[0m args[\u001b[38;5;124m'\u001b[39m\u001b[38;5;124mcurrent_time\u001b[39m\u001b[38;5;124m'\u001b[39m] \u001b[38;5;241m=\u001b[39m args\u001b[38;5;241m.\u001b[39mpop(\u001b[38;5;124m'\u001b[39m\u001b[38;5;124mtime\u001b[39m\u001b[38;5;124m'\u001b[39m)\n\u001b[1;32m     85\u001b[0m args[\u001b[38;5;124m'\u001b[39m\u001b[38;5;124mwatermark_self\u001b[39m\u001b[38;5;124m'\u001b[39m] \u001b[38;5;241m=\u001b[39m \u001b[38;5;28mself\u001b[39m\n\u001b[0;32m---> 87\u001b[0m formatted_text \u001b[38;5;241m=\u001b[39m \u001b[43mwatermark\u001b[49m\u001b[38;5;241;43m.\u001b[39;49m\u001b[43mwatermark\u001b[49m\u001b[43m(\u001b[49m\u001b[38;5;241;43m*\u001b[39;49m\u001b[38;5;241;43m*\u001b[39;49m\u001b[43margs\u001b[49m\u001b[43m)\u001b[49m\n\u001b[1;32m     88\u001b[0m \u001b[38;5;28mprint\u001b[39m(formatted_text)\n",
      "File \u001b[0;32m~/.conda/envs/electra_cls/lib/python3.11/site-packages/watermark/watermark.py:161\u001b[0m, in \u001b[0;36mwatermark\u001b[0;34m(author, email, github_username, website, current_date, datename, current_time, iso8601, timezone, updated, custom_time, python, packages, conda, hostname, machine, githash, gitrepo, gitbranch, watermark, iversions, watermark_self, globals_)\u001b[0m\n\u001b[1;32m    159\u001b[0m     output\u001b[38;5;241m.\u001b[39mappend(_get_pyversions())\n\u001b[1;32m    160\u001b[0m \u001b[38;5;28;01mif\u001b[39;00m args[\u001b[38;5;124m'\u001b[39m\u001b[38;5;124mpackages\u001b[39m\u001b[38;5;124m'\u001b[39m]:\n\u001b[0;32m--> 161\u001b[0m     output\u001b[38;5;241m.\u001b[39mappend(\u001b[43m_get_packages\u001b[49m\u001b[43m(\u001b[49m\u001b[43margs\u001b[49m\u001b[43m[\u001b[49m\u001b[38;5;124;43m'\u001b[39;49m\u001b[38;5;124;43mpackages\u001b[39;49m\u001b[38;5;124;43m'\u001b[39;49m\u001b[43m]\u001b[49m\u001b[43m)\u001b[49m)\n\u001b[1;32m    162\u001b[0m \u001b[38;5;28;01mif\u001b[39;00m args[\u001b[38;5;124m'\u001b[39m\u001b[38;5;124mconda\u001b[39m\u001b[38;5;124m'\u001b[39m]:\n\u001b[1;32m    163\u001b[0m     output\u001b[38;5;241m.\u001b[39mappend(_get_conda_env())\n",
      "File \u001b[0;32m~/.conda/envs/electra_cls/lib/python3.11/site-packages/watermark/watermark.py:214\u001b[0m, in \u001b[0;36m_get_packages\u001b[0;34m(pkgs)\u001b[0m\n\u001b[1;32m    212\u001b[0m \u001b[38;5;28;01mdef\u001b[39;00m \u001b[38;5;21m_get_packages\u001b[39m(pkgs):\n\u001b[1;32m    213\u001b[0m     packages \u001b[38;5;241m=\u001b[39m pkgs\u001b[38;5;241m.\u001b[39msplit(\u001b[38;5;124m\"\u001b[39m\u001b[38;5;124m,\u001b[39m\u001b[38;5;124m\"\u001b[39m)\n\u001b[0;32m--> 214\u001b[0m     \u001b[38;5;28;01mreturn\u001b[39;00m \u001b[43m{\u001b[49m\u001b[43mpackage\u001b[49m\u001b[43m:\u001b[49m\u001b[43m \u001b[49m\u001b[43m_get_package_version\u001b[49m\u001b[43m(\u001b[49m\u001b[43mpackage\u001b[49m\u001b[43m)\u001b[49m\n\u001b[1;32m    215\u001b[0m \u001b[43m            \u001b[49m\u001b[38;5;28;43;01mfor\u001b[39;49;00m\u001b[43m \u001b[49m\u001b[43mpackage\u001b[49m\u001b[43m \u001b[49m\u001b[38;5;129;43;01min\u001b[39;49;00m\u001b[43m \u001b[49m\u001b[43mpackages\u001b[49m\u001b[43m}\u001b[49m\n",
      "File \u001b[0;32m~/.conda/envs/electra_cls/lib/python3.11/site-packages/watermark/watermark.py:214\u001b[0m, in \u001b[0;36m<dictcomp>\u001b[0;34m(.0)\u001b[0m\n\u001b[1;32m    212\u001b[0m \u001b[38;5;28;01mdef\u001b[39;00m \u001b[38;5;21m_get_packages\u001b[39m(pkgs):\n\u001b[1;32m    213\u001b[0m     packages \u001b[38;5;241m=\u001b[39m pkgs\u001b[38;5;241m.\u001b[39msplit(\u001b[38;5;124m\"\u001b[39m\u001b[38;5;124m,\u001b[39m\u001b[38;5;124m\"\u001b[39m)\n\u001b[0;32m--> 214\u001b[0m     \u001b[38;5;28;01mreturn\u001b[39;00m {package: \u001b[43m_get_package_version\u001b[49m\u001b[43m(\u001b[49m\u001b[43mpackage\u001b[49m\u001b[43m)\u001b[49m\n\u001b[1;32m    215\u001b[0m             \u001b[38;5;28;01mfor\u001b[39;00m package \u001b[38;5;129;01min\u001b[39;00m packages}\n",
      "File \u001b[0;32m~/.conda/envs/electra_cls/lib/python3.11/site-packages/watermark/watermark.py:223\u001b[0m, in \u001b[0;36m_get_package_version\u001b[0;34m(pkg_name)\u001b[0m\n\u001b[1;32m    221\u001b[0m     pkg_name \u001b[38;5;241m=\u001b[39m \u001b[38;5;124m\"\u001b[39m\u001b[38;5;124msklearn\u001b[39m\u001b[38;5;124m\"\u001b[39m\n\u001b[1;32m    222\u001b[0m \u001b[38;5;28;01mtry\u001b[39;00m:\n\u001b[0;32m--> 223\u001b[0m     imported \u001b[38;5;241m=\u001b[39m \u001b[43mimportlib\u001b[49m\u001b[38;5;241;43m.\u001b[39;49m\u001b[43mimport_module\u001b[49m\u001b[43m(\u001b[49m\u001b[43mpkg_name\u001b[49m\u001b[43m)\u001b[49m\n\u001b[1;32m    224\u001b[0m \u001b[38;5;28;01mexcept\u001b[39;00m \u001b[38;5;167;01mImportError\u001b[39;00m:\n\u001b[1;32m    225\u001b[0m     version \u001b[38;5;241m=\u001b[39m \u001b[38;5;124m\"\u001b[39m\u001b[38;5;124mnot installed\u001b[39m\u001b[38;5;124m\"\u001b[39m\n",
      "File \u001b[0;32m~/.conda/envs/electra_cls/lib/python3.11/importlib/__init__.py:126\u001b[0m, in \u001b[0;36mimport_module\u001b[0;34m(name, package)\u001b[0m\n\u001b[1;32m    124\u001b[0m             \u001b[38;5;28;01mbreak\u001b[39;00m\n\u001b[1;32m    125\u001b[0m         level \u001b[38;5;241m+\u001b[39m\u001b[38;5;241m=\u001b[39m \u001b[38;5;241m1\u001b[39m\n\u001b[0;32m--> 126\u001b[0m \u001b[38;5;28;01mreturn\u001b[39;00m \u001b[43m_bootstrap\u001b[49m\u001b[38;5;241;43m.\u001b[39;49m\u001b[43m_gcd_import\u001b[49m\u001b[43m(\u001b[49m\u001b[43mname\u001b[49m\u001b[43m[\u001b[49m\u001b[43mlevel\u001b[49m\u001b[43m:\u001b[49m\u001b[43m]\u001b[49m\u001b[43m,\u001b[49m\u001b[43m \u001b[49m\u001b[43mpackage\u001b[49m\u001b[43m,\u001b[49m\u001b[43m \u001b[49m\u001b[43mlevel\u001b[49m\u001b[43m)\u001b[49m\n",
      "File \u001b[0;32m<frozen importlib._bootstrap>:1206\u001b[0m, in \u001b[0;36m_gcd_import\u001b[0;34m(name, package, level)\u001b[0m\n",
      "File \u001b[0;32m<frozen importlib._bootstrap>:1178\u001b[0m, in \u001b[0;36m_find_and_load\u001b[0;34m(name, import_)\u001b[0m\n",
      "File \u001b[0;32m<frozen importlib._bootstrap>:1149\u001b[0m, in \u001b[0;36m_find_and_load_unlocked\u001b[0;34m(name, import_)\u001b[0m\n",
      "File \u001b[0;32m<frozen importlib._bootstrap>:690\u001b[0m, in \u001b[0;36m_load_unlocked\u001b[0;34m(spec)\u001b[0m\n",
      "File \u001b[0;32m<frozen importlib._bootstrap_external>:940\u001b[0m, in \u001b[0;36mexec_module\u001b[0;34m(self, module)\u001b[0m\n",
      "File \u001b[0;32m<frozen importlib._bootstrap>:241\u001b[0m, in \u001b[0;36m_call_with_frames_removed\u001b[0;34m(f, *args, **kwds)\u001b[0m\n",
      "File \u001b[0;32m~/.conda/envs/electra_cls/lib/python3.11/site-packages/torch/__init__.py:217\u001b[0m\n\u001b[1;32m    206\u001b[0m \u001b[38;5;28;01melse\u001b[39;00m:\n\u001b[1;32m    207\u001b[0m     \u001b[38;5;66;03m# Easy way.  You want this most of the time, because it will prevent\u001b[39;00m\n\u001b[1;32m    208\u001b[0m     \u001b[38;5;66;03m# C++ symbols from libtorch clobbering C++ symbols from other\u001b[39;00m\n\u001b[0;32m   (...)\u001b[0m\n\u001b[1;32m    214\u001b[0m     \u001b[38;5;66;03m#\u001b[39;00m\n\u001b[1;32m    215\u001b[0m     \u001b[38;5;66;03m# See Note [Global dependencies]\u001b[39;00m\n\u001b[1;32m    216\u001b[0m     \u001b[38;5;28;01mif\u001b[39;00m USE_GLOBAL_DEPS:\n\u001b[0;32m--> 217\u001b[0m         \u001b[43m_load_global_deps\u001b[49m\u001b[43m(\u001b[49m\u001b[43m)\u001b[49m\n\u001b[1;32m    218\u001b[0m     \u001b[38;5;28;01mfrom\u001b[39;00m \u001b[38;5;21;01mtorch\u001b[39;00m\u001b[38;5;21;01m.\u001b[39;00m\u001b[38;5;21;01m_C\u001b[39;00m \u001b[38;5;28;01mimport\u001b[39;00m \u001b[38;5;241m*\u001b[39m  \u001b[38;5;66;03m# noqa: F403\u001b[39;00m\n\u001b[1;32m    220\u001b[0m \u001b[38;5;66;03m# Appease the type checker; ordinarily this binding is inserted by the\u001b[39;00m\n\u001b[1;32m    221\u001b[0m \u001b[38;5;66;03m# torch._C module initialization code in C\u001b[39;00m\n",
      "File \u001b[0;32m~/.conda/envs/electra_cls/lib/python3.11/site-packages/torch/__init__.py:178\u001b[0m, in \u001b[0;36m_load_global_deps\u001b[0;34m()\u001b[0m\n\u001b[1;32m    176\u001b[0m \u001b[38;5;28;01mif\u001b[39;00m \u001b[38;5;124m'\u001b[39m\u001b[38;5;124mlibcublas.so.11\u001b[39m\u001b[38;5;124m'\u001b[39m \u001b[38;5;129;01mnot\u001b[39;00m \u001b[38;5;129;01min\u001b[39;00m err\u001b[38;5;241m.\u001b[39margs[\u001b[38;5;241m0\u001b[39m]:\n\u001b[1;32m    177\u001b[0m     \u001b[38;5;28;01mraise\u001b[39;00m err\n\u001b[0;32m--> 178\u001b[0m \u001b[43m_preload_cuda_deps\u001b[49m\u001b[43m(\u001b[49m\u001b[43m)\u001b[49m\n\u001b[1;32m    179\u001b[0m ctypes\u001b[38;5;241m.\u001b[39mCDLL(lib_path, mode\u001b[38;5;241m=\u001b[39mctypes\u001b[38;5;241m.\u001b[39mRTLD_GLOBAL)\n",
      "File \u001b[0;32m~/.conda/envs/electra_cls/lib/python3.11/site-packages/torch/__init__.py:158\u001b[0m, in \u001b[0;36m_preload_cuda_deps\u001b[0;34m()\u001b[0m\n\u001b[1;32m    155\u001b[0m         \u001b[38;5;28;01mcontinue\u001b[39;00m\n\u001b[1;32m    156\u001b[0m     \u001b[38;5;28;01mbreak\u001b[39;00m\n\u001b[0;32m--> 158\u001b[0m \u001b[43mctypes\u001b[49m\u001b[38;5;241;43m.\u001b[39;49m\u001b[43mCDLL\u001b[49m\u001b[43m(\u001b[49m\u001b[43mcublas_path\u001b[49m\u001b[43m)\u001b[49m\n\u001b[1;32m    159\u001b[0m ctypes\u001b[38;5;241m.\u001b[39mCDLL(cudnn_path)\n",
      "File \u001b[0;32m~/.conda/envs/electra_cls/lib/python3.11/ctypes/__init__.py:376\u001b[0m, in \u001b[0;36mCDLL.__init__\u001b[0;34m(self, name, mode, handle, use_errno, use_last_error, winmode)\u001b[0m\n\u001b[1;32m    373\u001b[0m \u001b[38;5;28mself\u001b[39m\u001b[38;5;241m.\u001b[39m_FuncPtr \u001b[38;5;241m=\u001b[39m _FuncPtr\n\u001b[1;32m    375\u001b[0m \u001b[38;5;28;01mif\u001b[39;00m handle \u001b[38;5;129;01mis\u001b[39;00m \u001b[38;5;28;01mNone\u001b[39;00m:\n\u001b[0;32m--> 376\u001b[0m     \u001b[38;5;28mself\u001b[39m\u001b[38;5;241m.\u001b[39m_handle \u001b[38;5;241m=\u001b[39m \u001b[43m_dlopen\u001b[49m\u001b[43m(\u001b[49m\u001b[38;5;28;43mself\u001b[39;49m\u001b[38;5;241;43m.\u001b[39;49m\u001b[43m_name\u001b[49m\u001b[43m,\u001b[49m\u001b[43m \u001b[49m\u001b[43mmode\u001b[49m\u001b[43m)\u001b[49m\n\u001b[1;32m    377\u001b[0m \u001b[38;5;28;01melse\u001b[39;00m:\n\u001b[1;32m    378\u001b[0m     \u001b[38;5;28mself\u001b[39m\u001b[38;5;241m.\u001b[39m_handle \u001b[38;5;241m=\u001b[39m handle\n",
      "\u001b[0;31mOSError\u001b[0m: /home/ahmed_b/.conda/envs/electra_cls/lib/python3.11/site-packages/nvidia/cublas/lib/libcublas.so.11: symbol cublasLtGetStatusString version libcublasLt.so.11 not defined in file libcublasLt.so.11 with link time reference"
     ]
    }
   ],
   "source": [
    "%reload_ext watermark\n",
    "%watermark -v -p numpy,pandas,sklearn,torch,pytorch_lightning,transformers"
   ]
  },
  {
   "cell_type": "code",
   "execution_count": 24,
   "metadata": {
    "scrolled": true,
    "tags": []
   },
   "outputs": [
    {
     "name": "stdout",
     "output_type": "stream",
     "text": [
      "Requirement already satisfied: seaborn in c:\\users\\ahmed\\anaconda3\\lib\\site-packages (0.11.2)\n",
      "Requirement already satisfied: scipy>=1.0 in c:\\users\\ahmed\\anaconda3\\lib\\site-packages (from seaborn) (1.9.1)\n",
      "Requirement already satisfied: pandas>=0.23 in c:\\users\\ahmed\\anaconda3\\lib\\site-packages (from seaborn) (1.4.4)\n",
      "Requirement already satisfied: matplotlib>=2.2 in c:\\users\\ahmed\\anaconda3\\lib\\site-packages (from seaborn) (3.5.2)\n",
      "Requirement already satisfied: numpy>=1.15 in c:\\users\\ahmed\\anaconda3\\lib\\site-packages (from seaborn) (1.21.5)\n",
      "Requirement already satisfied: cycler>=0.10 in c:\\users\\ahmed\\anaconda3\\lib\\site-packages (from matplotlib>=2.2->seaborn) (0.11.0)\n",
      "Requirement already satisfied: fonttools>=4.22.0 in c:\\users\\ahmed\\anaconda3\\lib\\site-packages (from matplotlib>=2.2->seaborn) (4.25.0)\n",
      "Requirement already satisfied: pillow>=6.2.0 in c:\\users\\ahmed\\anaconda3\\lib\\site-packages (from matplotlib>=2.2->seaborn) (9.2.0)\n",
      "Requirement already satisfied: python-dateutil>=2.7 in c:\\users\\ahmed\\anaconda3\\lib\\site-packages (from matplotlib>=2.2->seaborn) (2.8.2)\n",
      "Requirement already satisfied: kiwisolver>=1.0.1 in c:\\users\\ahmed\\anaconda3\\lib\\site-packages (from matplotlib>=2.2->seaborn) (1.4.2)\n",
      "Requirement already satisfied: packaging>=20.0 in c:\\users\\ahmed\\anaconda3\\lib\\site-packages (from matplotlib>=2.2->seaborn) (21.3)\n",
      "Requirement already satisfied: pyparsing>=2.2.1 in c:\\users\\ahmed\\anaconda3\\lib\\site-packages (from matplotlib>=2.2->seaborn) (3.0.9)\n",
      "Requirement already satisfied: pytz>=2020.1 in c:\\users\\ahmed\\anaconda3\\lib\\site-packages (from pandas>=0.23->seaborn) (2022.1)\n",
      "Requirement already satisfied: six>=1.5 in c:\\users\\ahmed\\anaconda3\\lib\\site-packages (from python-dateutil>=2.7->matplotlib>=2.2->seaborn) (1.16.0)\n"
     ]
    }
   ],
   "source": [
    "!pip install seaborn"
   ]
  },
  {
   "cell_type": "code",
   "execution_count": 25,
   "metadata": {
    "colab": {
     "base_uri": "https://localhost:8080/"
    },
    "id": "QQPEsA5KACMT",
    "outputId": "3e164377-8d21-449b-a8b7-fb05669a67f9",
    "tags": []
   },
   "outputs": [
    {
     "name": "stderr",
     "output_type": "stream",
     "text": [
      "Global seed set to 42\n"
     ]
    },
    {
     "data": {
      "text/plain": [
       "42"
      ]
     },
     "execution_count": 25,
     "metadata": {},
     "output_type": "execute_result"
    }
   ],
   "source": [
    "from typing import Optional\n",
    "import os\n",
    "\n",
    "import seaborn as sns\n",
    "from pylab import rcParams\n",
    "import matplotlib.pyplot as plt\n",
    "import pandas as pd\n",
    "from pathlib import Path\n",
    "\n",
    "from torch.utils.data import Dataset, DataLoader\n",
    "from torch import nn\n",
    "from transformers import ElectraModel, ElectraPreTrainedModel, ElectraTokenizerFast as ElectraTokenizer, AdamW\n",
    "from transformers.models.electra.modeling_electra import ElectraClassificationHead\n",
    "\n",
    "import torch\n",
    "import pytorch_lightning as pl\n",
    "from sklearn.model_selection import train_test_split\n",
    "\n",
    "%matplotlib inline \n",
    "%config InlineBackend.figure_format='retina'\n",
    "\n",
    "sns.set(style='whitegrid', palette='muted', font_scale=1.2)\n",
    "\n",
    "HAPPY_COLORS_PALETTE = [\"#01BEFE\", \"#FFDD00\", \"#FF7D00\", \"#FF006D\", \"#ADFF02\", \"#8F00FF\"]\n",
    "sns.set_palette (sns.color_palette (HAPPY_COLORS_PALETTE))\n",
    "rcParams['figure.figsize'] = 12, 8\n",
    "\n",
    "pl.seed_everything(42)"
   ]
  },
  {
   "cell_type": "markdown",
   "metadata": {
    "id": "t9o6olSu6oSM"
   },
   "source": [
    "## Downloading data from Google Drive"
   ]
  },
  {
   "cell_type": "code",
   "execution_count": 26,
   "metadata": {
    "id": "dsuhO1MQBAZd"
   },
   "outputs": [],
   "source": [
    "# !wget -P data/full_dataset/ https://storage.googleapis.com/gresearch/goemotions/data/full_dataset/goemotions_1.csv\n",
    "# !wget -P data/full_dataset/ https://storage.googleapis.com/gresearch/goemotions/data/full_dataset/goemotions_2.csv\n",
    "# !wget -P data/full_dataset/ https://storage.googleapis.com/gresearch/goemotions/data/full_dataset/goemotions_3.csv"
   ]
  },
  {
   "cell_type": "code",
   "execution_count": 27,
   "metadata": {
    "id": "5CqpIkIeC01g"
   },
   "outputs": [
    {
     "ename": "ModuleNotFoundError",
     "evalue": "No module named 'google.colab'",
     "output_type": "error",
     "traceback": [
      "\u001b[1;31m---------------------------------------------------------------------------\u001b[0m",
      "\u001b[1;31mModuleNotFoundError\u001b[0m                       Traceback (most recent call last)",
      "\u001b[1;32m~\\AppData\\Local\\Temp\\ipykernel_18532\\907070862.py\u001b[0m in \u001b[0;36m<module>\u001b[1;34m\u001b[0m\n\u001b[1;32m----> 1\u001b[1;33m \u001b[1;32mfrom\u001b[0m \u001b[0mgoogle\u001b[0m\u001b[1;33m.\u001b[0m\u001b[0mcolab\u001b[0m \u001b[1;32mimport\u001b[0m \u001b[0mdrive\u001b[0m\u001b[1;33m\u001b[0m\u001b[1;33m\u001b[0m\u001b[0m\n\u001b[0m\u001b[0;32m      2\u001b[0m \u001b[0mdrive\u001b[0m\u001b[1;33m.\u001b[0m\u001b[0mmount\u001b[0m\u001b[1;33m(\u001b[0m\u001b[1;34m'/content/drive'\u001b[0m\u001b[1;33m)\u001b[0m\u001b[1;33m\u001b[0m\u001b[1;33m\u001b[0m\u001b[0m\n",
      "\u001b[1;31mModuleNotFoundError\u001b[0m: No module named 'google.colab'"
     ]
    }
   ],
   "source": [
    "from google.colab import drive\n",
    "drive.mount('/content/drive')"
   ]
  },
  {
   "cell_type": "markdown",
   "metadata": {
    "id": "Ge316xow6tM4"
   },
   "source": [
    "## Exploring the data"
   ]
  },
  {
   "cell_type": "code",
   "execution_count": null,
   "metadata": {
    "id": "s_zJHYgA3Ti6"
   },
   "outputs": [],
   "source": [
    "dataset_drive_path = \"/content/drive/MyDrive/Master thesis/Emotion Classification/GoEmotions dataset\"\n",
    "file_paths = list(Path(dataset_drive_path).glob(\"*.csv\"))\n",
    "\n",
    "dfs = []\n",
    "for file_path in file_paths:\n",
    "  dfs.append(pd.read_csv(file_path))\n",
    "df = pd.concat(dfs)\n",
    "df.created_utc = pd.to_datetime(df.created_utc, unit='s') # This is not mandatory    \n",
    "df.head()"
   ]
  },
  {
   "cell_type": "code",
   "execution_count": null,
   "metadata": {
    "id": "YOdlWcGcrp9w"
   },
   "outputs": [],
   "source": [
    "df.shape"
   ]
  },
  {
   "cell_type": "code",
   "execution_count": null,
   "metadata": {
    "id": "JrKPohNX3Tgb"
   },
   "outputs": [],
   "source": [
    "df.groupby(\"id\").head(1).shape"
   ]
  },
  {
   "cell_type": "code",
   "execution_count": null,
   "metadata": {
    "id": "dmV0qQh7z9JY"
   },
   "outputs": [],
   "source": [
    "emotion_categories = df.columns[9:]\n",
    "emotion_categories"
   ]
  },
  {
   "cell_type": "code",
   "execution_count": null,
   "metadata": {
    "id": "L3BwuACzrGG9"
   },
   "outputs": [],
   "source": [
    "row = df.iloc[10]\n",
    "sample_ratings = df[df.id == row.id]\n",
    "sample_ratings"
   ]
  },
  {
   "cell_type": "markdown",
   "metadata": {
    "id": "OpIOmeSh6xBL"
   },
   "source": [
    "There are multiple ratings for the same text, corresponding to the different people that are doing the ratings. "
   ]
  },
  {
   "cell_type": "markdown",
   "metadata": {
    "id": "SuA-ySxu7KUo"
   },
   "source": [
    "## Tokenizing a sample reddit comment"
   ]
  },
  {
   "cell_type": "code",
   "execution_count": null,
   "metadata": {
    "id": "EqrNEyXBsN2h"
   },
   "outputs": [],
   "source": [
    "sample_ratings.iloc[0].text"
   ]
  },
  {
   "cell_type": "code",
   "execution_count": null,
   "metadata": {
    "id": "-nUcKdkIrMkr"
   },
   "outputs": [],
   "source": [
    "ratings = sample_ratings[emotion_categories]\n",
    "ratings = ratings.columns[ratings.sum(axis=0) > 0]\n",
    "ratings = \", \".join(ratings)\n",
    "ratings"
   ]
  },
  {
   "cell_type": "code",
   "execution_count": null,
   "metadata": {
    "id": "I7lXKtPIsJvZ"
   },
   "outputs": [],
   "source": [
    "print(f\"text:       {row.text}\")\n",
    "print(f\"emotions:   {ratings}\")"
   ]
  },
  {
   "cell_type": "code",
   "execution_count": null,
   "metadata": {
    "id": "4_YRPjputHze"
   },
   "outputs": [],
   "source": [
    "from transformers import ElectraTokenizerFast as ElectraTokenizer\n",
    "\n",
    "MODEL_NAME = \"google/electra-base-discriminator\"\n",
    "\n",
    "tokenizer = ElectraTokenizer.from_pretrained(MODEL_NAME)"
   ]
  },
  {
   "cell_type": "code",
   "execution_count": null,
   "metadata": {
    "id": "cXjimuAq3HmF"
   },
   "outputs": [],
   "source": [
    "encoding = tokenizer(row.text)\n",
    "print(f\"Text:      {row.text}\")\n",
    "print(f\"Tokens:    {encoding.tokens()}\")\n",
    "print(f\"Token IDs: {encoding.input_ids}\")"
   ]
  },
  {
   "cell_type": "code",
   "execution_count": null,
   "metadata": {
    "id": "_csZOU8l3KjE"
   },
   "outputs": [],
   "source": [
    "encoding"
   ]
  },
  {
   "cell_type": "markdown",
   "metadata": {
    "id": "_iDzXWTG7Cdp"
   },
   "source": [
    "## Choosing a good sequence length"
   ]
  },
  {
   "cell_type": "code",
   "execution_count": null,
   "metadata": {
    "id": "L2cYVF_Y4dPw"
   },
   "outputs": [],
   "source": [
    "from tqdm import tqdm\n",
    "\n",
    "token_lens = []\n",
    "\n",
    "texts = df.groupby(\"id\").head(1).text\n",
    "\n",
    "for text in tqdm(texts):\n",
    "  encoding = tokenizer(text)\n",
    "  token_lens.append(len(encoding.tokens()))"
   ]
  },
  {
   "cell_type": "code",
   "execution_count": null,
   "metadata": {
    "id": "SP7sHs-X5jxB"
   },
   "outputs": [],
   "source": [
    "pd.Series(token_lens).value_counts().sort_index(ascending=False)[:10]"
   ]
  },
  {
   "cell_type": "code",
   "execution_count": null,
   "metadata": {
    "id": "3pllt14-5zhD"
   },
   "outputs": [],
   "source": [
    "sns.histplot(token_lens)\n",
    "plt.xlabel(\"Token count\")"
   ]
  },
  {
   "cell_type": "markdown",
   "metadata": {
    "id": "0aSTTZK66GwF"
   },
   "source": [
    "We can see that almost all tokens lengths are less than 64 tokens. Therefore, we can use 64 sequences for the tokenizer to accelerate training. "
   ]
  },
  {
   "cell_type": "code",
   "execution_count": null,
   "metadata": {
    "id": "WpI70Ftb6FLi"
   },
   "outputs": [],
   "source": [
    "sns.histplot(token_lens)\n",
    "plt.xlim([0, 64])\n",
    "plt.xlabel(\"Token count\")"
   ]
  },
  {
   "cell_type": "markdown",
   "metadata": {
    "id": "KhhX6KDS7gZk"
   },
   "source": [
    "# Developing a classifier based on Google ELECTRA"
   ]
  },
  {
   "cell_type": "markdown",
   "metadata": {
    "id": "JX74M5pu7xtG"
   },
   "source": [
    "## About the ELECTRA model "
   ]
  },
  {
   "cell_type": "markdown",
   "metadata": {
    "id": "Q5tHV9g08gFH"
   },
   "source": [
    "### **Summary**"
   ]
  },
  {
   "cell_type": "markdown",
   "metadata": {
    "id": "RdshcojJ8ANk"
   },
   "source": [
    "The pre-training task for popular language models like BERT and XLNet involves masking a small subset of unlabeled input and then training the network to recover this original input. Even though it works quite well, this approach is not particularly data-efficient as it learns from only a small fraction of tokens (typically ~15%). As an alternative, the researchers from Stanford University and Google Brain propose a new pre-training task called replaced token detection. Instead of masking, they suggest replacing some tokens with plausible alternatives generated by a small language model. Then, the pre-trained discriminator is used to predict whether each token is an original or a replacement. As a result, the model learns from all input tokens instead of the small masked fraction, making it much more computationally efficient. The experiments confirm that the introduced approach leads to significantly faster training and higher accuracy on downstream NLP tasks."
   ]
  },
  {
   "cell_type": "markdown",
   "metadata": {
    "id": "nlG8E8VL8NAo"
   },
   "source": [
    "![ELECTRA_650px_web.jpg](data:image/jpeg;base64,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)"
   ]
  },
  {
   "cell_type": "markdown",
   "metadata": {
    "id": "NKo_v_WJ8cHB"
   },
   "source": [
    "### **What’s the core idea of this paper?**"
   ]
  },
  {
   "cell_type": "markdown",
   "metadata": {
    "id": "6q4mAHRz8l1T"
   },
   "source": [
    "\n",
    "\n",
    "*   Pre-training methods that are based on masked language modeling are computationally inefficient as they use only a small fraction of tokens for learning.\n",
    "*   Researchers propose a new pre-training task called replaced token detection, where some tokens are replaced by samples from a small generator network, and a model is pre-trained as a discriminator to distinguish between original and replaced tokens.\n",
    "*   The introduced approach, called ELECTRA (Efficiently Learning an Encoder that Classifies Token Replacements Accurately): enables the model to learn from all input tokens instead of the small masked-out subset; and is not adversarial, despite the similarity to GAN, as the generator producing tokens for replacement is trained with maximum likelihood.\n",
    "\n",
    "\n",
    "\n"
   ]
  },
  {
   "cell_type": "markdown",
   "metadata": {
    "id": "OKnt8UkT9Dps"
   },
   "source": [
    "### **What’s the key achievement?**"
   ]
  },
  {
   "cell_type": "markdown",
   "metadata": {
    "id": "kOeIullN9H-r"
   },
   "source": [
    "\n",
    "\n",
    "*   Demonstrating that the discriminative task of distinguishing between real data and challenging negative samples is more efficient than existing generative methods for language representation learning.\n",
    "\n",
    "*   Introducing a model that substantially outperforms state-of-the-art approaches while requiring less pre-training compute:\n",
    "ELECTRA-Small gets a GLUE score of 79.9 and outperforms a comparably small BERT model with a score of 75.1 and a much larger GPT model with a score of 78.8.\n",
    "An ELECTRA model that performs comparably to XLNet and RoBERTa uses only 25% of their pre-training compute.\n",
    "ELECTRA-Large outscores the alternative state-of-the-art models on the GLUE and SQuAD benchmarks while still requiring less pre-training compute.\n"
   ]
  },
  {
   "cell_type": "markdown",
   "metadata": {
    "id": "v7iCCoTh9Xbk"
   },
   "source": [
    "# Building a custom dataset"
   ]
  },
  {
   "cell_type": "code",
   "execution_count": null,
   "metadata": {
    "id": "KTCoqciG9aH-"
   },
   "outputs": [],
   "source": [
    "df.head()"
   ]
  },
  {
   "cell_type": "markdown",
   "metadata": {
    "id": "Gk0Z1aD0Y1VP"
   },
   "source": [
    "Since multiple annotators do not necessarily agree on the emotion label, we're going to take the most frequent emotion as the real label: "
   ]
  },
  {
   "cell_type": "code",
   "execution_count": null,
   "metadata": {
    "id": "OFsS4s0R75DE"
   },
   "outputs": [],
   "source": [
    "texts = []\n",
    "emotions = []\n",
    "\n",
    "for comment_id, group in df.groupby(\"id\"):\n",
    "  texts.append(group.iloc[0].text)\n",
    "  emotions.append(group[emotion_categories].sum(axis=0).argmax())"
   ]
  },
  {
   "cell_type": "code",
   "execution_count": null,
   "metadata": {
    "id": "ABjBX0Bl74AI"
   },
   "outputs": [],
   "source": [
    "text_df = pd.DataFrame({\"text\": texts, \"emotion\": emotions})\n",
    "text_df.head()"
   ]
  },
  {
   "cell_type": "code",
   "execution_count": null,
   "metadata": {
    "id": "cyZHHjyW7xbZ"
   },
   "outputs": [],
   "source": [
    "EMOJI_MAP = {\n",
    "    'admiration': '👏',\n",
    "    'amusement': '😂',\n",
    "    'anger': '😡',\n",
    "    'annoyance': '😒',\n",
    "    'approval': '👍',\n",
    "    'caring': '🤗',\n",
    "    'confusion': '😕',\n",
    "    'curiosity': '🤔',\n",
    "    'desire': '😍',\n",
    "    'disappointment': '😞',\n",
    "    'disapproval': '👎',\n",
    "    'disgust': '🤮',\n",
    "    'embarrassment': '😳',\n",
    "    'excitement': '🤩',\n",
    "    'fear': '😨',\n",
    "    'gratitude': '🙏',\n",
    "    'grief': '😢',\n",
    "    'joy': '😃',\n",
    "    'love': '❤️',\n",
    "    'nervousness': '😬',\n",
    "    'optimism': '🤞',\n",
    "    'pride': '😌',\n",
    "    'realization': '💡',\n",
    "    'relief': '😅',\n",
    "    'remorse': '',\n",
    "    'sadness': '😞',\n",
    "    'surprise': '😲',\n",
    "    'neutral': '',\n",
    "}"
   ]
  },
  {
   "cell_type": "code",
   "execution_count": null,
   "metadata": {
    "id": "6nKh5Obj6ZbP"
   },
   "outputs": [],
   "source": [
    "text_df[\"emoji\"] = text_df.emotion.map(lambda x: emotion_categories[x]).map(lambda x: EMOJI_MAP[x])"
   ]
  },
  {
   "cell_type": "code",
   "execution_count": null,
   "metadata": {
    "id": "V-k_Nj40iW1Y"
   },
   "outputs": [],
   "source": [
    "text_df.head()"
   ]
  },
  {
   "cell_type": "code",
   "execution_count": null,
   "metadata": {
    "id": "E1cmKQlliaUp"
   },
   "outputs": [],
   "source": [
    "from numpy import index_exp\n",
    "class EmotionDataset(Dataset):\n",
    "  def __init__(self, data: pd.DataFrame, tokenizer: ElectraTokenizer):\n",
    "    self.data = data\n",
    "    self.tokenizer = tokenizer\n",
    "  \n",
    "  def __len__(self):\n",
    "    return len(self.data)\n",
    "\n",
    "  def __getitem__(self, idx):\n",
    "    row = self.data.iloc[idx]\n",
    "    encoding = tokenizer(\n",
    "        row.text,\n",
    "        max_length=64, \n",
    "        truncation=True,\n",
    "        padding=\"max_length\",\n",
    "        add_special_tokens=True,\n",
    "        return_token_type_ids=False,\n",
    "        return_attention_mask=True,\n",
    "        return_tensors=\"pt\"\n",
    "    )\n",
    "    \n",
    "    return {\n",
    "        \"input_ids\": encoding[\"input_ids\"].flatten(),\n",
    "        \"attention_mask\": encoding[\"attention_mask\"].flatten(),\n",
    "        \"label\": torch.tensor(row.emotion)\n",
    "    }"
   ]
  },
  {
   "cell_type": "code",
   "execution_count": null,
   "metadata": {
    "id": "dGGuO5yfjkmo"
   },
   "outputs": [],
   "source": [
    "ds = EmotionDataset(text_df, tokenizer)\n",
    "print(len(ds) == len(text_df))"
   ]
  },
  {
   "cell_type": "code",
   "execution_count": null,
   "metadata": {
    "id": "mjipBPsQbl04"
   },
   "outputs": [],
   "source": [
    "for item in ds:\n",
    "  print(item[\"input_ids\"][:10])\n",
    "  print(item[\"label\"])\n",
    "  break"
   ]
  },
  {
   "cell_type": "code",
   "execution_count": null,
   "metadata": {
    "id": "h1xGQ7-Tb7ln"
   },
   "outputs": [],
   "source": [
    "from matplotlib import test\n",
    "class EmotionDataModule(pl.LightningDataModule):\n",
    "  def __init__(\n",
    "      self, data: pd.DataFrame, tokenizer: ElectraTokenizer, batch_size: int\n",
    "  ):\n",
    "    self.data = data\n",
    "    self.tokenizer = tokenizer\n",
    "    self.batch_size = batch_size\n",
    "\n",
    "  def setup(self, stage: Optional[str] = None):\n",
    "    self.train_df, test_df = train_test_split(self.data, test_size=0.2)\n",
    "    self.val_df, self.test_df = train_test_split(test_df, test_size=0.5)\n",
    "\n",
    "  def train_dataloader(self):\n",
    "    return DataLoader(\n",
    "        dataset=EmotionDataset(self.train_df, self.tokenizer),\n",
    "        batch_size=self.batch_size,\n",
    "        num_workers=os.cpu_count(),\n",
    "        shuffle=True\n",
    "    )\n",
    "\n",
    "  def val_dataloader(self):\n",
    "    return DataLoader(\n",
    "        dataset=EmotionDataset(self.val_df, self.tokenizer),\n",
    "        batch_size=self.batch_size,\n",
    "        num_workers=os.cpu_count(),\n",
    "        shuffle=False\n",
    "    )\n",
    "\n",
    "  def test_dataloader(self):\n",
    "    return DataLoader(\n",
    "        dataset=EmotionDataset(self.test_df, self.tokenizer),\n",
    "        batch_size=self.batch_size,\n",
    "        num_workers=os.cpu_count(),\n",
    "        shuffle=False\n",
    "    )"
   ]
  },
  {
   "cell_type": "code",
   "execution_count": null,
   "metadata": {
    "id": "iZViax5Dk1Ty"
   },
   "outputs": [],
   "source": [
    "data_module = EmotionDataModule(text_df, tokenizer, batch_size=32)\n",
    "data_module.setup()"
   ]
  },
  {
   "cell_type": "code",
   "execution_count": null,
   "metadata": {
    "id": "uO4IA1m1zbqQ"
   },
   "outputs": [],
   "source": [
    "for batch in data_module.train_dataloader():\n",
    "  print(len(batch))\n",
    "  print(batch[\"input_ids\"].shape, batch[\"attention_mask\"].shape, batch[\"label\"].shape)\n",
    "  break"
   ]
  },
  {
   "cell_type": "markdown",
   "metadata": {
    "id": "jlQmfVhVrb4I"
   },
   "source": [
    "# Google ELECTRA classifier"
   ]
  },
  {
   "cell_type": "markdown",
   "metadata": {
    "id": "832lcwkmrb4R"
   },
   "source": [
    "## About the ELECTRA model "
   ]
  },
  {
   "cell_type": "markdown",
   "metadata": {
    "id": "MQ_mocq2rb4R"
   },
   "source": [
    "### **Summary**"
   ]
  },
  {
   "cell_type": "markdown",
   "metadata": {
    "id": "zOBwangtrb4R"
   },
   "source": [
    "The pre-training task for popular language models like BERT and XLNet involves masking a small subset of unlabeled input and then training the network to recover this original input. Even though it works quite well, this approach is not particularly data-efficient as it learns from only a small fraction of tokens (typically ~15%). As an alternative, the researchers from Stanford University and Google Brain propose a new pre-training task called replaced token detection. Instead of masking, they suggest replacing some tokens with plausible alternatives generated by a small language model. Then, the pre-trained discriminator is used to predict whether each token is an original or a replacement. As a result, the model learns from all input tokens instead of the small masked fraction, making it much more computationally efficient. The experiments confirm that the introduced approach leads to significantly faster training and higher accuracy on downstream NLP tasks."
   ]
  },
  {
   "cell_type": "markdown",
   "metadata": {
    "id": "Cs93FXrfrb4R"
   },
   "source": [
    "![ELECTRA_650px_web.jpg](data:image/jpeg;base64,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)"
   ]
  },
  {
   "cell_type": "markdown",
   "metadata": {
    "id": "_-9Y2vsprb4U"
   },
   "source": [
    "### **What’s the core idea of this paper?**"
   ]
  },
  {
   "cell_type": "markdown",
   "metadata": {
    "id": "YwR3omSYrb4V"
   },
   "source": [
    "\n",
    "\n",
    "*   Pre-training methods that are based on masked language modeling are computationally inefficient as they use only a small fraction of tokens for learning.\n",
    "*   Researchers propose a new pre-training task called replaced token detection, where some tokens are replaced by samples from a small generator network, and a model is pre-trained as a discriminator to distinguish between original and replaced tokens.\n",
    "*   The introduced approach, called ELECTRA (Efficiently Learning an Encoder that Classifies Token Replacements Accurately): enables the model to learn from all input tokens instead of the small masked-out subset; and is not adversarial, despite the similarity to GAN, as the generator producing tokens for replacement is trained with maximum likelihood.\n",
    "\n",
    "\n",
    "\n"
   ]
  },
  {
   "cell_type": "markdown",
   "metadata": {
    "id": "ri6dK-xArb4V"
   },
   "source": [
    "### **What’s the key achievement?**"
   ]
  },
  {
   "cell_type": "markdown",
   "metadata": {
    "id": "cJNjezPKrb4V"
   },
   "source": [
    "\n",
    "\n",
    "*   Demonstrating that the discriminative task of distinguishing between real data and challenging negative samples is more efficient than existing generative methods for language representation learning.\n",
    "\n",
    "*   Introducing a model that substantially outperforms state-of-the-art approaches while requiring less pre-training compute:\n",
    "ELECTRA-Small gets a GLUE score of 79.9 and outperforms a comparably small BERT model with a score of 75.1 and a much larger GPT model with a score of 78.8.\n",
    "An ELECTRA model that performs comparably to XLNet and RoBERTa uses only 25% of their pre-training compute.\n",
    "ELECTRA-Large outscores the alternative state-of-the-art models on the GLUE and SQuAD benchmarks while still requiring less pre-training compute.\n"
   ]
  },
  {
   "cell_type": "markdown",
   "metadata": {
    "id": "XspbgI1Cmevq"
   },
   "source": [
    "## Pipeline"
   ]
  },
  {
   "cell_type": "markdown",
   "metadata": {
    "id": "EAADVY-TpPPz"
   },
   "source": [
    "### Mask prediction"
   ]
  },
  {
   "cell_type": "code",
   "execution_count": null,
   "metadata": {
    "id": "cagMZnvzmbOU"
   },
   "outputs": [],
   "source": [
    "from transformers import pipeline\n",
    "import json\n",
    "\n",
    "fill_mask = pipeline(\n",
    "    \"fill-mask\",\n",
    "    model=\"google/electra-base-generator\",\n",
    "    tokenizer=\"google/electra-base-generator\",\n",
    "    top_k=3\n",
    ")"
   ]
  },
  {
   "cell_type": "code",
   "execution_count": null,
   "metadata": {
    "id": "-uD8UZSmoJ--"
   },
   "outputs": [],
   "source": [
    "sample_text = \"The sky is cloudy, it's probably going to [MASK].\"\n",
    "\n",
    "print(json.dumps(fill_mask(sample_text), indent=4))"
   ]
  },
  {
   "cell_type": "markdown",
   "metadata": {
    "id": "ZScmp_lLpRpt"
   },
   "source": [
    "## Discriminator"
   ]
  },
  {
   "cell_type": "markdown",
   "metadata": {
    "id": "DD0_fgHUpT0p"
   },
   "source": [
    "The discriminator's task is to get the tokens and decide if each token was replaced or not."
   ]
  },
  {
   "cell_type": "code",
   "execution_count": null,
   "metadata": {
    "id": "OzwmNpAmocf2"
   },
   "outputs": [],
   "source": [
    "from transformers import ElectraForPreTraining\n",
    "\n",
    "model = ElectraForPreTraining.from_pretrained(\"google/electra-small-discriminator\")"
   ]
  },
  {
   "cell_type": "code",
   "execution_count": null,
   "metadata": {
    "id": "a8PywuW4phx2"
   },
   "outputs": [],
   "source": [
    "sample_text = \"I am happy because I am doing research.\"\n",
    "\n",
    "encoding = tokenizer(sample_text, return_tensors=\"pt\")\n",
    "outputs = model(**encoding)"
   ]
  },
  {
   "cell_type": "code",
   "execution_count": null,
   "metadata": {
    "id": "NShKWRWx22Mf"
   },
   "outputs": [],
   "source": [
    "encoding"
   ]
  },
  {
   "cell_type": "code",
   "execution_count": null,
   "metadata": {
    "id": "QozPzfpI2VBf"
   },
   "outputs": [],
   "source": [
    "encoding.tokens()"
   ]
  },
  {
   "cell_type": "code",
   "execution_count": null,
   "metadata": {
    "id": "0U_pjOX62-iM"
   },
   "outputs": [],
   "source": [
    "outputs"
   ]
  },
  {
   "cell_type": "code",
   "execution_count": null,
   "metadata": {
    "id": "WRi1JysVqIPd"
   },
   "outputs": [],
   "source": [
    "outputs.logits"
   ]
  },
  {
   "cell_type": "code",
   "execution_count": null,
   "metadata": {
    "id": "5e1WNuoi2mr7"
   },
   "outputs": [],
   "source": [
    "torch.softmax(outputs.logits, dim=-1)"
   ]
  },
  {
   "cell_type": "code",
   "execution_count": null,
   "metadata": {
    "id": "3d34Mzwc1Bjx"
   },
   "outputs": [],
   "source": [
    "torch.softmax(outputs.logits, dim=-1).sum()"
   ]
  },
  {
   "cell_type": "markdown",
   "metadata": {
    "id": "RLhguSIt3W2B"
   },
   "source": [
    "The sum is 1 so this is basically a probability distribution."
   ]
  },
  {
   "cell_type": "code",
   "execution_count": null,
   "metadata": {
    "id": "DgBsoNWY3WVe"
   },
   "outputs": [],
   "source": [
    "def show_detections(tokens, logits):\n",
    "  replaced_token_index = torch.argmax(logits, dim=-1).item() \n",
    "\n",
    "  special_tokens = set(tokenizer.special_tokens_map.values())\n",
    "  \n",
    "  for i, token in enumerate(tokens):\n",
    "    if token in special_tokens:\n",
    "      continue\n",
    "    elif i == replaced_token_index:\n",
    "      print(f\"{token} -> replaced\")\n",
    "    else:\n",
    "      print(f\"{token} -> original\")"
   ]
  },
  {
   "cell_type": "code",
   "execution_count": null,
   "metadata": {
    "id": "ibMGpvtW4vMY"
   },
   "outputs": [],
   "source": [
    "show_detections(encoding.tokens(), outputs.logits)"
   ]
  },
  {
   "cell_type": "markdown",
   "metadata": {
    "id": "6pXHEsA0DRab"
   },
   "source": [
    "## Emotion Classifier"
   ]
  },
  {
   "cell_type": "code",
   "execution_count": null,
   "metadata": {
    "id": "wEXhgSpK413R"
   },
   "outputs": [],
   "source": [
    "#from transformers.utils.dummy_pt_objects import ElectraPreTrainedModel\n",
    "class ElectraClassifier(ElectraPreTrainedModel):\n",
    "  def __init__(self, config):\n",
    "    super().__init__(config)\n",
    "    self.n_classes = config.num_labels\n",
    "    self.config = config\n",
    "    self.electra = ElectraModel(config)\n",
    "    self.classifier = ElectraClassificationHead(config)\n",
    "\n",
    "    self.post_init()\n",
    "\n",
    "  def forward(\n",
    "      self,\n",
    "      input_ids=None,\n",
    "      attention_mask=None\n",
    "  ):\n",
    "    discriminator_hidden_states = self.electra(input_ids, attention_mask)\n",
    "    sequence_output = discriminator_hidden_states[0]\n",
    "    logits = self.classifier(sequence_output)\n",
    "    return logits"
   ]
  },
  {
   "cell_type": "code",
   "execution_count": null,
   "metadata": {
    "id": "mhGVDxj-C3bF"
   },
   "outputs": [],
   "source": [
    "class EmotionClassifier(pl.LightningModule):\n",
    "  def __init__(self, n_classes, learning_rate: Optional[float]=None):\n",
    "    super().__init__()\n",
    "    self.n_classes = n_classes\n",
    "    self.classifier = ElectraClassifier.from_pretrained(\n",
    "        \"google/electra-small-discriminator\",\n",
    "        num_labels=n_classes\n",
    "    )\n",
    "    self.criterion = nn.CrossEntropyLoss()\n",
    "    self.learning_rate = learning_rate\n",
    "\n",
    "  def forward(self, input_ids, attention_mask):\n",
    "    return self.classifier(input_ids, attention_mask)\n",
    "\n",
    "  def run_step(self, batch, stage):\n",
    "    input_ids = batch[\"input_ids\"]\n",
    "    attention_mask = batch[\"attention_mask\"]\n",
    "    labels = batch[\"label\"].long()\n",
    "    logits = self(input_ids, attention_mask)\n",
    "\n",
    "    loss = self.criterion(logits, labels)\n",
    "    self.log(f\"{stage}_loss\", loss, on_step=True, on_epoch=True, prog_bar=True)\n",
    "\n",
    "    return loss\n",
    "\n",
    "  def training_step(self, batch, batch_idx):\n",
    "    return self.run_step(batch, \"train\")\n",
    "\n",
    "  def validation_step(self, batch, batch_idx):\n",
    "    return self.run_step(batch, \"val\")\n",
    "\n",
    "  def test_step(self, batch, batch_idx):\n",
    "    return self.run_step(batch, \"test\")\n",
    "\n",
    "  def configure_optimizers(self):\n",
    "    return AdamW(self.parameters(), lr=self.learning_rate)"
   ]
  },
  {
   "cell_type": "code",
   "execution_count": null,
   "metadata": {
    "id": "PLkv1TqaEqUH"
   },
   "outputs": [],
   "source": [
    "MAX_LEARNING_RATE = 1e-2\n",
    "BATCH_SIZE = 512\n",
    "TRAINING_STEPS = 650\n",
    "\n",
    "data_module = EmotionDataModule(\n",
    "    text_df,\n",
    "    tokenizer,\n",
    "    batch_size=BATCH_SIZE\n",
    ")\n",
    "\n",
    "model = EmotionClassifier(\n",
    "    n_classes = len(emotion_categories),\n",
    "    learning_rate = MAX_LEARNING_RATE\n",
    ")"
   ]
  },
  {
   "cell_type": "code",
   "execution_count": null,
   "metadata": {
    "id": "UbKDI1j6O0aM"
   },
   "outputs": [],
   "source": [
    "trainer = pl.Trainer(gpus=1)"
   ]
  },
  {
   "cell_type": "code",
   "execution_count": null,
   "metadata": {
    "id": "p_422OEbBkgk"
   },
   "outputs": [],
   "source": [
    "lr_finder = trainer.tuner.lr_find(model, data_module, max_lr=MAX_LEARNING_RATE)"
   ]
  },
  {
   "cell_type": "code",
   "execution_count": null,
   "metadata": {
    "id": "RkV7tpuhBx65"
   },
   "outputs": [],
   "source": [
    "lr_finder.results"
   ]
  },
  {
   "cell_type": "code",
   "execution_count": null,
   "metadata": {
    "id": "ZcRxpjN8DO3z"
   },
   "outputs": [],
   "source": [
    "!nvidia-smi"
   ]
  },
  {
   "cell_type": "code",
   "execution_count": null,
   "metadata": {
    "id": "zUlnnHNMDdlI"
   },
   "outputs": [],
   "source": [
    "fig = lr_finder.plot(suggest=True)"
   ]
  },
  {
   "cell_type": "code",
   "execution_count": null,
   "metadata": {
    "id": "kDOyt1JuDidg"
   },
   "outputs": [],
   "source": [
    "new_lr = lr_finder.suggestion()\n",
    "new_lr"
   ]
  },
  {
   "cell_type": "code",
   "execution_count": null,
   "metadata": {
    "id": "-BSPgyXVDnlB"
   },
   "outputs": [],
   "source": [
    "model.learning_rate = new_lr"
   ]
  },
  {
   "cell_type": "code",
   "execution_count": null,
   "metadata": {
    "id": "WO5hpHyVEHQM"
   },
   "outputs": [],
   "source": [
    "%load_ext tensorboard"
   ]
  },
  {
   "cell_type": "code",
   "execution_count": null,
   "metadata": {
    "id": "dk6ojHq2EQRa"
   },
   "outputs": [],
   "source": [
    "from pytorch_lightning.callbacks import ModelCheckpoint\n",
    "from pytorch_lightning.loggers import TensorBoardLogger\n",
    "experiments_dir = \"experiments\"\n",
    "#experiments_dir = \"/content/drive/MyDrive/Master thesis/Emotion Classification/ELECTRA checkpoints\"\n",
    "\n",
    "model_checkpoint = ModelCheckpoint(\n",
    "    filename=\"{epoch}-{step}-{val_loss:.2f}\",\n",
    "    save_last=True,\n",
    "    save_top_k=3,\n",
    "    monitor=\"val_loss_epoch\",\n",
    "    mode=\"min\"\n",
    ")\n",
    "\n",
    "logger = TensorBoardLogger(save_dir=experiments_dir, name=\"emotion_classification\")"
   ]
  },
  {
   "cell_type": "code",
   "execution_count": null,
   "metadata": {
    "id": "po2J_O5mHVb2"
   },
   "outputs": [],
   "source": [
    "%tensorboard --logdir experiments"
   ]
  },
  {
   "cell_type": "code",
   "execution_count": null,
   "metadata": {
    "id": "9LV5QIuWHdQF"
   },
   "outputs": [],
   "source": [
    "trainer = pl.Trainer(\n",
    "    default_root_dir=experiments_dir,\n",
    "    gpus=1,\n",
    "    max_epochs=10,\n",
    "    # max_steps=TRAINING_STEPS,\n",
    "    precision=16,\n",
    "    val_check_interval=40,\n",
    "    callbacks=[\n",
    "        model_checkpoint\n",
    "    ],\n",
    "    logger=logger\n",
    ")"
   ]
  },
  {
   "cell_type": "code",
   "execution_count": null,
   "metadata": {
    "id": "6AoS6NlYJl1l"
   },
   "outputs": [],
   "source": [
    "trainer.fit(model, data_module)"
   ]
  },
  {
   "cell_type": "code",
   "execution_count": null,
   "metadata": {
    "id": "Tv1HdMBHJvea"
   },
   "outputs": [],
   "source": [
    "trainer.test(datamodule=data_module)"
   ]
  },
  {
   "cell_type": "code",
   "execution_count": null,
   "metadata": {
    "id": "cXRoM5PJLciW"
   },
   "outputs": [],
   "source": [
    "model.classifier.save_pretrained(\"emotion_classifier\")"
   ]
  },
  {
   "cell_type": "code",
   "execution_count": null,
   "metadata": {
    "id": "SCP7RjHHafku"
   },
   "outputs": [],
   "source": []
  },
  {
   "cell_type": "markdown",
   "metadata": {
    "id": "L-0fJ6btXYIi"
   },
   "source": [
    "Loading the trained model:"
   ]
  },
  {
   "cell_type": "code",
   "execution_count": null,
   "metadata": {
    "id": "UdSVqAfUdSmm"
   },
   "outputs": [],
   "source": [
    "trained_model = EmotionClassifier.load_from_checkpoint(\n",
    "    trainer.checkpoint_callback.best_model_path,\n",
    "    n_classes=len(emotion_categories)\n",
    ")"
   ]
  },
  {
   "cell_type": "code",
   "execution_count": null,
   "metadata": {
    "id": "CAVHIbY3b7CS"
   },
   "outputs": [],
   "source": [
    "trainer.checkpoint_callback.best_model_score "
   ]
  },
  {
   "cell_type": "code",
   "execution_count": null,
   "metadata": {
    "id": "IZ5dkPjKkM3Q"
   },
   "outputs": [],
   "source": [
    "trained_model.eval()"
   ]
  },
  {
   "cell_type": "code",
   "execution_count": null,
   "metadata": {
    "id": "O5aPyZcLkNke"
   },
   "outputs": [],
   "source": [
    "# trained_model.freeze()"
   ]
  },
  {
   "cell_type": "code",
   "execution_count": null,
   "metadata": {
    "id": "q_nnFnGvmmHo"
   },
   "outputs": [],
   "source": [
    "def Predict_emotion(text, top_k=3):\n",
    "  encoding = tokenizer(\n",
    "          text,\n",
    "          max_length=64, \n",
    "          truncation=True,\n",
    "          padding=\"max_length\",\n",
    "          add_special_tokens=True,\n",
    "          return_token_type_ids=False,\n",
    "          return_attention_mask=True,\n",
    "          return_tensors=\"pt\"\n",
    "      )\n",
    "  # outputs = trained_model(encoding[\"input_ids\"], encoding[\"attention_mask\"])\n",
    "  outputs = trained_model(**encoding)\n",
    "  probabilities = list(torch.softmax(outputs, dim=-1).detach().numpy().flatten())\n",
    "  emotion_idx = torch.argmax(outputs, dim=-1).item() \n",
    "  predicted_emotion = emotion_categories[emotion_idx]\n",
    "\n",
    "  emotion_categories_list = list(emotion_categories)\n",
    "  probabilities, emotion_categories_list = zip(*sorted(zip(probabilities, emotion_categories_list)))\n",
    "  probabilities = probabilities[::-1]\n",
    "  emotion_categories_list = emotion_categories_list[::-1]\n",
    "\n",
    "  print(f'The sentence \"{sample_text}\"')\n",
    "  print(f\"Expresses the {predicted_emotion.upper()} emotion ({100*probabilities[0]:.0f}%).\")\n",
    "\n",
    "  print(\"\\n-- Other probabilities: --\\n\")\n",
    "  k = 1\n",
    "  for label, probability in zip(list(emotion_categories_list), list(probabilities)):\n",
    "    print(f\"P({label}) = {100*probability:.2f}%.\")\n",
    "    k += 1\n",
    "    if k > top_k: \n",
    "      break"
   ]
  },
  {
   "cell_type": "code",
   "execution_count": null,
   "metadata": {
    "id": "c7WdT4ETrL55"
   },
   "outputs": [],
   "source": [
    "sample_text = \"This boy doesn't stop talking!\"\n",
    "Predict_emotion(sample_text)"
   ]
  },
  {
   "cell_type": "code",
   "execution_count": null,
   "metadata": {
    "id": "ETiIGS-vtWa4"
   },
   "outputs": [],
   "source": []
  }
 ],
 "metadata": {
  "accelerator": "GPU",
  "colab": {
   "provenance": []
  },
  "gpuClass": "standard",
  "kernelspec": {
   "display_name": "Python 3 (ipykernel)",
   "language": "python",
   "name": "python3"
  },
  "language_info": {
   "codemirror_mode": {
    "name": "ipython",
    "version": 3
   },
   "file_extension": ".py",
   "mimetype": "text/x-python",
   "name": "python",
   "nbconvert_exporter": "python",
   "pygments_lexer": "ipython3",
   "version": "3.11.0"
  }
 },
 "nbformat": 4,
 "nbformat_minor": 4
}
